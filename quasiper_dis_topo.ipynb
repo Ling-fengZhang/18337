{
  "nbformat": 4,
  "nbformat_minor": 0,
  "metadata": {
    "kernelspec": {
      "display_name": "Python 3",
      "language": "python",
      "name": "python3"
    },
    "language_info": {
      "codemirror_mode": {
        "name": "ipython",
        "version": 3
      },
      "file_extension": ".py",
      "mimetype": "text/x-python",
      "name": "python",
      "nbconvert_exporter": "python",
      "pygments_lexer": "ipython3",
      "version": "3.8.3"
    },
    "toc": {
      "base_numbering": 1,
      "nav_menu": {},
      "number_sections": true,
      "sideBar": true,
      "skip_h1_title": false,
      "title_cell": "Table of Contents",
      "title_sidebar": "Contents",
      "toc_cell": false,
      "toc_position": {},
      "toc_section_display": true,
      "toc_window_display": false
    },
    "varInspector": {
      "cols": {
        "lenName": 16,
        "lenType": 16,
        "lenVar": 40
      },
      "kernels_config": {
        "python": {
          "delete_cmd_postfix": "",
          "delete_cmd_prefix": "del ",
          "library": "var_list.py",
          "varRefreshCmd": "print(var_dic_list())"
        },
        "r": {
          "delete_cmd_postfix": ") ",
          "delete_cmd_prefix": "rm(",
          "library": "var_list.r",
          "varRefreshCmd": "cat(var_dic_list()) "
        }
      },
      "types_to_exclude": [
        "module",
        "function",
        "builtin_function_or_method",
        "instance",
        "_Feature"
      ],
      "window_display": false
    },
    "colab": {
      "name": "quasiper_dis_topo.ipynb",
      "provenance": [],
      "collapsed_sections": [],
      "include_colab_link": true
    },
    "accelerator": "GPU"
  },
  "cells": [
    {
      "cell_type": "markdown",
      "metadata": {
        "id": "view-in-github",
        "colab_type": "text"
      },
      "source": [
        "<a href=\"https://colab.research.google.com/github/Ling-fengZhang/18337/blob/master/quasiper_dis_topo.ipynb\" target=\"_parent\"><img src=\"https://colab.research.google.com/assets/colab-badge.svg\" alt=\"Open In Colab\"/></a>"
      ]
    },
    {
      "cell_type": "code",
      "metadata": {
        "id": "FQhoBTlasWQ9",
        "colab": {
          "base_uri": "https://localhost:8080/"
        },
        "outputId": "82869967-8028-4aeb-ac6b-e5a5d3db75d5"
      },
      "source": [
        "from google.colab import drive\n",
        "drive.mount('/content/drive')"
      ],
      "execution_count": 3,
      "outputs": [
        {
          "output_type": "stream",
          "text": [
            "Mounted at /content/drive\n"
          ],
          "name": "stdout"
        }
      ]
    },
    {
      "cell_type": "code",
      "metadata": {
        "id": "q6Dnguh5sU1y",
        "colab": {
          "base_uri": "https://localhost:8080/"
        },
        "outputId": "0c753f04-56fe-4980-a0a6-d7321210020a"
      },
      "source": [
        "%cd /content/drive/MyDrive/Colab Notebooks/AnomalyDetection/Interacting_model"
      ],
      "execution_count": 4,
      "outputs": [
        {
          "output_type": "stream",
          "text": [
            "/content/drive/MyDrive/Colab Notebooks/AnomalyDetection/Interacting_model\n"
          ],
          "name": "stdout"
        }
      ]
    },
    {
      "cell_type": "code",
      "metadata": {
        "ExecuteTime": {
          "end_time": "2020-01-23T21:08:39.332372Z",
          "start_time": "2020-01-23T21:08:34.367233Z"
        },
        "id": "D89BinLe0C5h"
      },
      "source": [
        "import numpy as np\n",
        "from matplotlib import pyplot as plt\n",
        "from matplotlib.ticker import MaxNLocator\n",
        "from matplotlib.colors import BoundaryNorm\n",
        "import matplotlib.patches as patches\n",
        "import tensorflow as tf\n",
        "from tensorflow.keras.models import Sequential,Model\n",
        "from tensorflow.keras.layers import Input,Dense,Conv2D,MaxPooling2D,UpSampling2D,Flatten,add,Conv2DTranspose\n",
        "from tensorflow.keras.callbacks import ModelCheckpoint"
      ],
      "execution_count": 5,
      "outputs": []
    },
    {
      "cell_type": "code",
      "metadata": {
        "id": "4SyQy0vn2wAv"
      },
      "source": [
        "import h5py\n",
        "import numpy as np\n",
        "from scipy.optimize import curve_fit\n",
        "from matplotlib import pyplot as plt\n",
        "\n",
        "import tensorflow as tf\n",
        "from tensorflow.keras.models import Sequential,Model\n",
        "from tensorflow.keras.layers import Input,Dense,Conv2D,MaxPooling2D,UpSampling2D,Flatten,add\n",
        "from tensorflow.keras.callbacks import ModelCheckpoint"
      ],
      "execution_count": 6,
      "outputs": []
    },
    {
      "cell_type": "code",
      "metadata": {
        "id": "Omdm6RgV21ZR"
      },
      "source": [
        "save = True"
      ],
      "execution_count": 7,
      "outputs": []
    },
    {
      "cell_type": "code",
      "metadata": {
        "id": "fvyQfJN84pwi"
      },
      "source": [
        "tf.keras.backend.clear_session()"
      ],
      "execution_count": 8,
      "outputs": []
    },
    {
      "cell_type": "code",
      "metadata": {
        "id": "q1sTVUfcln2r"
      },
      "source": [
        "model = 'quasiper_dis'"
      ],
      "execution_count": 9,
      "outputs": []
    },
    {
      "cell_type": "code",
      "metadata": {
        "id": "8zT8CqU_4qMn"
      },
      "source": [
        "# f = h5py.File('data/TMI_U_W_n_real_20_dim_32.h5', 'r')\n",
        "f = h5py.File('data/quasiper_dis_es_20_30.h5', 'r')\n",
        "# f = h5py.File('data/TMI_U_W_n_real_20.h5','r')"
      ],
      "execution_count": 10,
      "outputs": []
    },
    {
      "cell_type": "code",
      "metadata": {
        "colab": {
          "base_uri": "https://localhost:8080/",
          "height": 283
        },
        "id": "5EHyAULACcEZ",
        "outputId": "56675df3-7e38-473b-9f68-1c120824a414"
      },
      "source": [
        "from matplotlib.colors import LinearSegmentedColormap\n",
        "\n",
        "cm_data = [[0.2081, 0.1663, 0.5292], [0.2116238095, 0.1897809524, 0.5776761905], \n",
        " [0.212252381, 0.2137714286, 0.6269714286], [0.2081, 0.2386, 0.6770857143], \n",
        " [0.1959047619, 0.2644571429, 0.7279], [0.1707285714, 0.2919380952, \n",
        "  0.779247619], [0.1252714286, 0.3242428571, 0.8302714286], \n",
        " [0.0591333333, 0.3598333333, 0.8683333333], [0.0116952381, 0.3875095238, \n",
        "  0.8819571429], [0.0059571429, 0.4086142857, 0.8828428571], \n",
        " [0.0165142857, 0.4266, 0.8786333333], [0.032852381, 0.4430428571, \n",
        "  0.8719571429], [0.0498142857, 0.4585714286, 0.8640571429], \n",
        " [0.0629333333, 0.4736904762, 0.8554380952], [0.0722666667, 0.4886666667, \n",
        "  0.8467], [0.0779428571, 0.5039857143, 0.8383714286], \n",
        " [0.079347619, 0.5200238095, 0.8311809524], [0.0749428571, 0.5375428571, \n",
        "  0.8262714286], [0.0640571429, 0.5569857143, 0.8239571429], \n",
        " [0.0487714286, 0.5772238095, 0.8228285714], [0.0343428571, 0.5965809524, \n",
        "  0.819852381], [0.0265, 0.6137, 0.8135], [0.0238904762, 0.6286619048, \n",
        "  0.8037619048], [0.0230904762, 0.6417857143, 0.7912666667], \n",
        " [0.0227714286, 0.6534857143, 0.7767571429], [0.0266619048, 0.6641952381, \n",
        "  0.7607190476], [0.0383714286, 0.6742714286, 0.743552381], \n",
        " [0.0589714286, 0.6837571429, 0.7253857143], \n",
        " [0.0843, 0.6928333333, 0.7061666667], [0.1132952381, 0.7015, 0.6858571429], \n",
        " [0.1452714286, 0.7097571429, 0.6646285714], [0.1801333333, 0.7176571429, \n",
        "  0.6424333333], [0.2178285714, 0.7250428571, 0.6192619048], \n",
        " [0.2586428571, 0.7317142857, 0.5954285714], [0.3021714286, 0.7376047619, \n",
        "  0.5711857143], [0.3481666667, 0.7424333333, 0.5472666667], \n",
        " [0.3952571429, 0.7459, 0.5244428571], [0.4420095238, 0.7480809524, \n",
        "  0.5033142857], [0.4871238095, 0.7490619048, 0.4839761905], \n",
        " [0.5300285714, 0.7491142857, 0.4661142857], [0.5708571429, 0.7485190476, \n",
        "  0.4493904762], [0.609852381, 0.7473142857, 0.4336857143], \n",
        " [0.6473, 0.7456, 0.4188], [0.6834190476, 0.7434761905, 0.4044333333], \n",
        " [0.7184095238, 0.7411333333, 0.3904761905], \n",
        " [0.7524857143, 0.7384, 0.3768142857], [0.7858428571, 0.7355666667, \n",
        "  0.3632714286], [0.8185047619, 0.7327333333, 0.3497904762], \n",
        " [0.8506571429, 0.7299, 0.3360285714], [0.8824333333, 0.7274333333, 0.3217], \n",
        " [0.9139333333, 0.7257857143, 0.3062761905], [0.9449571429, 0.7261142857, \n",
        "  0.2886428571], [0.9738952381, 0.7313952381, 0.266647619], \n",
        " [0.9937714286, 0.7454571429, 0.240347619], [0.9990428571, 0.7653142857, \n",
        "  0.2164142857], [0.9955333333, 0.7860571429, 0.196652381], \n",
        " [0.988, 0.8066, 0.1793666667], [0.9788571429, 0.8271428571, 0.1633142857], \n",
        " [0.9697, 0.8481380952, 0.147452381], [0.9625857143, 0.8705142857, 0.1309], \n",
        " [0.9588714286, 0.8949, 0.1132428571], [0.9598238095, 0.9218333333, \n",
        "  0.0948380952], [0.9661, 0.9514428571, 0.0755333333], \n",
        " [0.9763, 0.9831, 0.0538]]\n",
        "\n",
        "parula_map = LinearSegmentedColormap.from_list('parula', cm_data)\n",
        "# For use of \"viscm view\"\n",
        "test_cm = parula_map\n",
        "\n",
        "if __name__ == \"__main__\":\n",
        "    import matplotlib.pyplot as plt\n",
        "    import numpy as np\n",
        "\n",
        "    try:\n",
        "        from viscm import viscm\n",
        "        viscm(parula_map)\n",
        "    except ImportError:\n",
        "        print(\"viscm not found, falling back on simple display\")\n",
        "        plt.imshow(np.linspace(0, 100, 256)[None, :], aspect='auto',\n",
        "                   cmap=parula_map)\n",
        "    plt.show()"
      ],
      "execution_count": 11,
      "outputs": [
        {
          "output_type": "stream",
          "text": [
            "viscm not found, falling back on simple display\n"
          ],
          "name": "stdout"
        },
        {
          "output_type": "display_data",
          "data": {
            "image/png": "[encoded data removed]",
            "text/plain": [
              "<Figure size 432x288 with 1 Axes>"
            ]
          },
          "metadata": {
            "tags": [],
            "needs_background": "light"
          }
        }
      ]
    },
    {
      "cell_type": "code",
      "metadata": {
        "colab": {
          "base_uri": "https://localhost:8080/",
          "height": 269
        },
        "id": "BU3Pq-ijodVZ",
        "outputId": "ecb27dcb-30eb-409e-f524-9fa663ddd902"
      },
      "source": [
        "import pickle as pkl\n",
        "import numpy as np\n",
        "import matplotlib.pyplot as plt\n",
        "\n",
        "n_real = 5 # n_real <= 5\n",
        "\n",
        "us = np.round(np.linspace(0,2,20),2)\n",
        "ws = np.round(np.linspace(0,5,30),2)\n",
        "# data = np.zeros((50,50,n_real,400,400))\n",
        "wind_mat = np.zeros((20,30))\n",
        "\n",
        "# wind = np.mean(wind.reshape(-1,3),axis=1)\n",
        "wind = f['bp'][:]\n",
        "wind_mat = np.mean(wind.reshape(20,30,5),axis=-1)\n",
        "# for i in range(len(us)):\n",
        "#     for j in range(len(ws)):\n",
        "#         wind_mat[i,j] = np.mean(wind[i*30+j*5:i*30+(j+1)*5])\n",
        "\n",
        "X, Y = np.meshgrid(ws,us)\n",
        "fig, ax = plt.subplots()\n",
        "im = ax.pcolormesh(X,Y,wind_mat,cmap=parula_map)\n",
        "# im = plt.imshow(wind_mat,aspect='auto',cmap=parula_map)\n",
        "ax.set_xlim(np.min(ws),np.max(ws))\n",
        "ax.set_ylim(np.min(us),np.max(us))\n",
        "plt.colorbar(im)\n",
        "plt.show()    "
      ],
      "execution_count": 12,
      "outputs": [
        {
          "output_type": "display_data",
          "data": {
            "image/png": "[encoded data removed]",
            "text/plain": [
              "<Figure size 432x288 with 2 Axes>"
            ]
          },
          "metadata": {
            "tags": [],
            "needs_background": "light"
          }
        }
      ]
    },
    {
      "cell_type": "code",
      "metadata": {
        "id": "fXdXt2cP4wjd"
      },
      "source": [
        "U = f['U'][:]\n",
        "W = f['W'][:]"
      ],
      "execution_count": 13,
      "outputs": []
    },
    {
      "cell_type": "code",
      "metadata": {
        "id": "nc6izKv6NQh5"
      },
      "source": [
        "uU = np.unique(U)\n",
        "uW = np.unique(W)\n",
        "X,Y = np.meshgrid(uW,uU)"
      ],
      "execution_count": 14,
      "outputs": []
    },
    {
      "cell_type": "code",
      "metadata": {
        "id": "SczQhx2_OlQ4"
      },
      "source": [
        "def train_mask(U0,U1,W0,W1):\n",
        "    pick_U = np.where((U >= U0) & (U <= U1))\n",
        "    pick_W = np.where((W >= W0) & (W <= W1))\n",
        "    return np.intersect1d(pick_U,pick_W)"
      ],
      "execution_count": 15,
      "outputs": []
    },
    {
      "cell_type": "code",
      "metadata": {
        "id": "q52zU_DiPpk9",
        "colab": {
          "base_uri": "https://localhost:8080/"
        },
        "outputId": "40f55513-b9fc-47e2-ea9f-df700bf800fb"
      },
      "source": [
        "print(uU.min(),uU.max(),uW.min(),uW.max())"
      ],
      "execution_count": 16,
      "outputs": [
        {
          "output_type": "stream",
          "text": [
            "0.0 2.0 0.0 5.0\n"
          ],
          "name": "stdout"
        }
      ]
    },
    {
      "cell_type": "code",
      "metadata": {
        "colab": {
          "base_uri": "https://localhost:8080/"
        },
        "id": "s78eCl7tnhVY",
        "outputId": "aefe88ea-f5c1-47bd-8c88-a4fb695bee34"
      },
      "source": [
        "print(uU.shape,uW.shape)\n",
        "print(uU,uW)"
      ],
      "execution_count": 17,
      "outputs": [
        {
          "output_type": "stream",
          "text": [
            "(20,) (30,)\n",
            "[0.   0.11 0.21 0.32 0.42 0.53 0.63 0.74 0.84 0.95 1.05 1.16 1.26 1.37\n",
            " 1.47 1.58 1.68 1.79 1.89 2.  ] [0.   0.17 0.34 0.52 0.69 0.86 1.03 1.21 1.38 1.55 1.72 1.9  2.07 2.24\n",
            " 2.41 2.59 2.76 2.93 3.1  3.28 3.45 3.62 3.79 3.97 4.14 4.31 4.48 4.66\n",
            " 4.83 5.  ]\n"
          ],
          "name": "stdout"
        }
      ]
    },
    {
      "cell_type": "code",
      "metadata": {
        "id": "1y5RBlsD5Uxr",
        "colab": {
          "base_uri": "https://localhost:8080/"
        },
        "outputId": "09c6d291-6d01-46f3-a23a-127d9a317da9"
      },
      "source": [
        "images = f[\"image\"][:][:,:32,:8,np.newaxis]\n",
        "print(images.shape)"
      ],
      "execution_count": 18,
      "outputs": [
        {
          "output_type": "stream",
          "text": [
            "(3000, 32, 8, 1)\n"
          ],
          "name": "stdout"
        }
      ]
    },
    {
      "cell_type": "markdown",
      "metadata": {
        "id": "1VCqswSAHTWf"
      },
      "source": [
        "## Define Neural network"
      ]
    },
    {
      "cell_type": "code",
      "metadata": {
        "id": "S8PFHpVZ9Sy-"
      },
      "source": [
        "# def scc_cnn2D(loss,optimizer,activation0,activation,x_shape):\n",
        "#     in_dim = x_shape\n",
        "#     input_img = Input(shape=in_dim)\n",
        "   \n",
        "#     x1 = Conv2D(16, 2, activation=activation0, padding='same')(input_img) # 33 10 16\n",
        "#     x2 = Conv2D(32, 2, activation=activation0, padding='same')(x1) # 33 10 32\n",
        "#     x3 = MaxPooling2D((2,2), padding='same')(x2) # 11 5 32\n",
        "#     encoded = Conv2D(32, 2, activation=activation0, padding='same')(x3) # 11 5 32\n",
        "\n",
        "#     y=UpSampling2D((2,2))(encoded) # 33 10 32\n",
        "#     y=add([x2,y]) # 33 10 32\n",
        "#     y=Conv2D(16, 2, activation=activation0, padding='same')(y) # 33 10 16\n",
        "#     y=add([x1,y]) # 33 10 16\n",
        "#     decoded = Conv2D(x_shape[-1], 2, activation=activation, padding='same')(y) # 33 10 1\n",
        "\n",
        "#     cnn = Model(input_img, decoded)\n",
        "\n",
        "#     cnn.compile(loss=loss,optimizer=optimizer)#,metrics=['accuracy']) #adadelta\n",
        "#     return cnn\n",
        "\n",
        "def scc_cnn2D(loss,optimizer,activation0,activation,x_shape):\n",
        "    in_dim = x_shape\n",
        "    input_img = Input(shape=in_dim)\n",
        "   \n",
        "    x1 = Conv2D(16, (2,2), strides=2, activation=activation0, padding='same')(input_img) # 16 5 16\n",
        "    encoded = Conv2D(8, (2,2), strides=2, activation=activation0, padding='same')(x1) # 33 10 32\n",
        "\n",
        "    y = Conv2DTranspose(16, kernel_size=2, strides=2, activation=activation0, padding='same')(encoded)\n",
        "    y = Conv2DTranspose(16, kernel_size=2, strides=2, activation=activation0, padding='same')(y) # 33 10 16\n",
        "    decoded = Conv2D(x_shape[-1], 2, activation=activation, padding='same')(y) # 33 10 1\n",
        "\n",
        "    cnn = Model(input_img, decoded)\n",
        "\n",
        "    cnn.compile(loss=loss,optimizer=optimizer)#,metrics=['accuracy']) #adadelta\n",
        "    return cnn"
      ],
      "execution_count": 19,
      "outputs": []
    },
    {
      "cell_type": "code",
      "metadata": {
        "id": "FY58-GZ1HZrJ",
        "colab": {
          "base_uri": "https://localhost:8080/"
        },
        "outputId": "89839426-5910-48b6-8a7d-c59165fd791d"
      },
      "source": [
        "cnn = scc_cnn2D(\"mse\",\"adam\",\"linear\",\"relu\",x_shape=(32,8,1))\n",
        "cnn.summary()"
      ],
      "execution_count": 20,
      "outputs": [
        {
          "output_type": "stream",
          "text": [
            "Model: \"model\"\n",
            "_________________________________________________________________\n",
            "Layer (type)                 Output Shape              Param #   \n",
            "=================================================================\n",
            "input_1 (InputLayer)         [(None, 32, 8, 1)]        0         \n",
            "_________________________________________________________________\n",
            "conv2d (Conv2D)              (None, 16, 4, 16)         80        \n",
            "_________________________________________________________________\n",
            "conv2d_1 (Conv2D)            (None, 8, 2, 8)           520       \n",
            "_________________________________________________________________\n",
            "conv2d_transpose (Conv2DTran (None, 16, 4, 16)         528       \n",
            "_________________________________________________________________\n",
            "conv2d_transpose_1 (Conv2DTr (None, 32, 8, 16)         1040      \n",
            "_________________________________________________________________\n",
            "conv2d_2 (Conv2D)            (None, 32, 8, 1)          65        \n",
            "=================================================================\n",
            "Total params: 2,233\n",
            "Trainable params: 2,233\n",
            "Non-trainable params: 0\n",
            "_________________________________________________________________\n"
          ],
          "name": "stdout"
        }
      ]
    },
    {
      "cell_type": "markdown",
      "metadata": {
        "id": "G8CX0uYYHNGB"
      },
      "source": [
        "## Helper functions"
      ]
    },
    {
      "cell_type": "code",
      "metadata": {
        "id": "np2v1LYkd1P6"
      },
      "source": [
        "def norm2(y_true,y_pred):\n",
        "    \"\"\" just the standard l2 norm, needed for evaluation \"\"\"\n",
        "    return np.sqrt(np.sum(np.abs(y_true - y_pred)**2))\n",
        "\n",
        "def eval_loss(x_batch,y_batch,norm=norm2):\n",
        "    a = []\n",
        "    for i in range(x_batch.shape[0]):\n",
        "        a.append(norm(x_batch[i],y_batch[i]))\n",
        "    return np.array(a)\n",
        "\n",
        "def training_run(x_train,choose_cnn, name = \"\", provide_cnn = False,\n",
        "             load_prev=False, num_epochs = 10,  verbose_val=1, batch_size = 128, shuffle=True, early=False,\n",
        "             loss=\"mse\", activation0 = 'relu', activation = 'linear', optimizer = \"adam\"):\n",
        "    \"\"\"\n",
        "    provide_cnn is to continue the training of a cnn\n",
        "    load_prev is to load a previously trained network under the same paramters\n",
        "    x_train provide training data\n",
        "    \"\"\"\n",
        "    name_string = name\n",
        "    CNN_filepath= 'CNN_data/Anomaly-Detection_' + name_string + 'weights.hdf5'\n",
        "\n",
        "    cnn = choose_cnn(loss,optimizer,activation0,activation,x_train.shape[1:])\n",
        "    if load_prev:\n",
        "        cnn.load_weights(CNN_filepath)\n",
        "    else:\n",
        "        if provide_cnn:\n",
        "            cnn = provide_cnn\n",
        "        # checkpoint\n",
        "        checkpoint = ModelCheckpoint(CNN_filepath, monitor='val_loss', verbose=0, save_best_only=False, mode='max')\n",
        "        callbacks_list = [checkpoint]\n",
        "        if early:\n",
        "            early_stop = tf.keras.callbacks.EarlyStopping(monitor='val_loss', min_delta=0, patience=2, verbose=0, mode='auto', baseline=None)#, restore_best_weights=True)\n",
        "            callbacks_list.append(early_stop)\n",
        "\n",
        "        history=cnn.fit(x_train, x_train, epochs=num_epochs, batch_size=batch_size,validation_data=(x_train,x_train),callbacks=callbacks_list,verbose=verbose_val,shuffle=shuffle)\n",
        "        np.savez('CNN_data/Anomaly-Detection_history_cnn_' + name_string + '.npz',loss=history.history['loss'],val_loss=history.history['val_loss'])#,acc=history.history['acc'],val_acc=history.history['val_acc'])\n",
        "\n",
        "     # training history\n",
        "    plotname = 'plots/Anomaly-Detection_training-history' +  name_string\n",
        "    hist = np.load('CNN_data/Anomaly-Detection_history_cnn_' + name_string + '.npz',allow_pickle=\"True\")\n",
        "    loss = hist[\"loss\"]\n",
        "    val_loss = hist[\"val_loss\"]\n",
        "    plt.plot(loss, linewidth=2, label='Train')\n",
        "    plt.plot(val_loss, linewidth=2, label='Val')\n",
        "    plt.legend(loc='upper right')\n",
        "    plt.title('Model loss')\n",
        "    plt.ylabel('Loss')\n",
        "    plt.xlabel('Epoch')\n",
        "    plt.yscale(\"log\")\n",
        "    #plt.ylim(ymin=0.70,ymax=1)\n",
        "    plt.savefig(plotname + 'training.png', format=\"png\")\n",
        "    plt.show()\n",
        "    return cnn\n"
      ],
      "execution_count": 21,
      "outputs": []
    },
    {
      "cell_type": "code",
      "metadata": {
        "id": "vQS1ZwCtGXTF"
      },
      "source": [
        "def create_out(cnn1):\n",
        "    \"\"\"\n",
        "    Creates (dim_U, dim_W) matrix of the output loss and the standard deviation\n",
        "    \"\"\"\n",
        "    images_out = cnn1.predict(images)\n",
        "\n",
        "    res = eval_loss(images,images_out,norm=norm2)/eval_loss(images,0*images,norm=norm2)\n",
        "\n",
        "    uW = np.unique(W)\n",
        "\n",
        "    uU = np.unique(U)\n",
        "\n",
        "    X,Y = np.meshgrid(uW,uU)\n",
        "\n",
        "    out = np.zeros((len(uW),len(uU)))\n",
        "    dout = np.zeros((len(uW),len(uU)))\n",
        "\n",
        "    for i,w_ in enumerate(uW):\n",
        "        for j,u_ in enumerate(uU):\n",
        "            mask = np.intersect1d(np.where(U == u_),np.where(W == w_))\n",
        "            out[i,j] = np.mean(res[mask])\n",
        "            dout[i,j] = np.std(res[mask])\n",
        "    return out, dout, res"
      ],
      "execution_count": 22,
      "outputs": []
    },
    {
      "cell_type": "code",
      "metadata": {
        "id": "WccQ9d54GT-e"
      },
      "source": [
        "# A full run consisting of training and evaluation\n",
        "def full_run(x_train, activation = \"linear\", activation0=\"relu\",\n",
        "             choose_cnn = scc_cnn2D, provide_cnn = False,\n",
        "             num_batch_epochs = 1, batch_epochs=30, batch_size = 16, load_prev = False, training = 0,dis = 'random_dis',\n",
        "             pick_U = 8):\n",
        "    \"\"\"\n",
        "    choose_cnn: provide function that builds respective architecture\n",
        "    provide_cnn: continue training of a previous NN instance\n",
        "    batch_epochs: number of epochs per training-batch\n",
        "    num_batch_epochs: number of training-batches (sorry for confusing terminology of \"batch\")\n",
        "    batch_size: tf parameter\n",
        "    name: provide name for saving network parameters\n",
        "    load_prev: when the training was already done, reload parameters (all hyper-parameters and parameters must match!)\n",
        "    pick_U: for evaluation, which u is picked to display the single cut\n",
        "    \"\"\"\n",
        "    \n",
        "    for batch in range(num_batch_epochs):\n",
        "        if batch == 0:\n",
        "            provide_cnn = provide_cnn\n",
        "        else:\n",
        "            provide_cnn = cnn1\n",
        "        cnn1 = training_run(x_train = x_train,choose_cnn = choose_cnn, name = \"{}_{}\".format(dis,training), provide_cnn = provide_cnn,\n",
        "             load_prev=load_prev, num_epochs = batch_epochs,  verbose_val=1, batch_size = batch_size, shuffle=True, early=True,\n",
        "             loss=\"mse\", activation0 = 'relu', activation = 'linear', optimizer = \"adam\")\n",
        "        out,dout,res = create_out(cnn1)\n",
        "        \n",
        "        \n",
        "        trans_line = Y[pick_U,:][0]\n",
        "        ### Plot\n",
        "        fig, ax = plt.subplots()\n",
        "        # plot result\n",
        "        im = ax.pcolormesh(X,Y,out.T,cmap=\"jet\")\n",
        "        fig.colorbar(im,ax=ax)\n",
        "        ax.set_xlabel('W/t',fontsize=16)\n",
        "        ax.set_ylabel('U/t',fontsize=16)\n",
        "        \n",
        "        # theory curve\n",
        "        # ax.contour(x0,y0,np.round(chern_number.T),levels=2)\n",
        "        ax.set_xlim(uW.min(),uW.max())\n",
        "        ax.set_ylim(uU.min(),uU.max())\n",
        "        ax.plot([uW.min(),uW.max()],[trans_line]*2,\"--\",c='k',linewidth=4)\n",
        "        for ws,us in zip(train_Ws,train_Us):\n",
        "            # Create a Rectangle patch\n",
        "            rect = patches.Rectangle((ws[0], us[0]), ws[1]-ws[0], us[1]-us[0], linewidth=2, edgecolor='aqua', facecolor='none')\n",
        "            # Add the patch to the Axes\n",
        "            ax.add_patch(rect)\n",
        "        plt.show()\n",
        "\n",
        "        fig, ax = plt.subplots()\n",
        "        plt.errorbar(X[pick_U,:],out.T[pick_U,:],yerr=dout.T[pick_U,:],c='mediumblue',marker='^',markersize=10,mfc='mediumblue',mec='k')\n",
        "        des = np.round(Y[pick_U,:][0],2)\n",
        "        plt.title(f\"U ={des}\")\n",
        "        # for Ws,Us in zip(train_Ws,train_Us):\n",
        "        #     plt.fill_between(*[Us],out.T[:,pick_U].min(),out.T[:,pick_U].max(),alpha=0.3,color=\"orange\")\n",
        "        # ax.axvline(6.1, color='black') # expected transition\n",
        "        # ax.axvline(6.8, color='black') # expected transition\n",
        "        plt.show()\n",
        "    return cnn1, out, dout, res"
      ],
      "execution_count": 23,
      "outputs": []
    },
    {
      "cell_type": "markdown",
      "metadata": {
        "id": "cHjv6Ve7Gj11"
      },
      "source": [
        "## Training"
      ]
    },
    {
      "cell_type": "code",
      "metadata": {
        "id": "TR1MUNHiGcns"
      },
      "source": [
        "# this is here the results, i.e. the loss values and its error are going to be saved\n",
        "# res is the full-stack data list while out is averaged and aranged\n",
        "cnns, outs, douts, res = [None] * 3,[None] * 3, [None] * 3, [None] * 3"
      ],
      "execution_count": 24,
      "outputs": []
    },
    {
      "cell_type": "code",
      "metadata": {
        "id": "QsvodJWGGl-T"
      },
      "source": [
        "train_Uss = []\n",
        "train_Wss = []"
      ],
      "execution_count": 25,
      "outputs": []
    },
    {
      "cell_type": "markdown",
      "metadata": {
        "id": "5LQolLADHAek"
      },
      "source": [
        "### Topo. trivial area"
      ]
    },
    {
      "cell_type": "code",
      "metadata": {
        "id": "aKpYQd4WSrhI"
      },
      "source": [
        "training = 0"
      ],
      "execution_count": 26,
      "outputs": []
    },
    {
      "cell_type": "code",
      "metadata": {
        "id": "Ny9PgeGXGvTw"
      },
      "source": [
        "train_Us = [(0.,0.5)]\n",
        "train_Ws = [(0,1)]\n",
        "train_Uss.append(train_Us)\n",
        "train_Wss.append(train_Ws)"
      ],
      "execution_count": 27,
      "outputs": []
    },
    {
      "cell_type": "code",
      "metadata": {
        "id": "1UfbE_JZGf_o"
      },
      "source": [
        "tf.keras.backend.clear_session()"
      ],
      "execution_count": 28,
      "outputs": []
    },
    {
      "cell_type": "code",
      "metadata": {
        "id": "SC_D8WYxGsry",
        "colab": {
          "base_uri": "https://localhost:8080/",
          "height": 304
        },
        "outputId": "74be76be-e081-415e-ddd9-07157543b0d2"
      },
      "source": [
        "x_train = []\n",
        "for Ws,Us in zip(train_Ws,train_Us):\n",
        "    x_train.append(f[\"image\"][train_mask(*Us,*Ws)][:][:,:32,:8,np.newaxis])\n",
        "print([_.shape for _ in x_train])\n",
        "x_train = np.concatenate(x_train)\n",
        "fig, ax = plt.subplots()\n",
        "# ax.contour(x0,y0,np.round(chern_number.T),levels=2)\n",
        "for ws,us in zip(train_Ws,train_Us):\n",
        "    plt.fill_between(*[ws],*us,alpha=0.3)\n",
        "plt.ylim(U.min(),U.max())\n",
        "plt.xlim(W.min(),W.max())"
      ],
      "execution_count": 29,
      "outputs": [
        {
          "output_type": "stream",
          "text": [
            "[(150, 32, 8, 1)]\n"
          ],
          "name": "stdout"
        },
        {
          "output_type": "execute_result",
          "data": {
            "text/plain": [
              "(0.0, 5.0)"
            ]
          },
          "metadata": {
            "tags": []
          },
          "execution_count": 29
        },
        {
          "output_type": "display_data",
          "data": {
            "image/png": "[encoded data removed]",
            "text/plain": [
              "<Figure size 432x288 with 1 Axes>"
            ]
          },
          "metadata": {
            "tags": [],
            "needs_background": "light"
          }
        }
      ]
    },
    {
      "cell_type": "code",
      "metadata": {
        "id": "4EelOlgLGyTV",
        "colab": {
          "base_uri": "https://localhost:8080/",
          "height": 830
        },
        "outputId": "245c60e0-9735-4b21-8dff-6659623669d8"
      },
      "source": [
        "cnns[training], outs[training], douts[training], res[training] = full_run(x_train, load_prev=True, batch_epochs=200, training = training, dis='quasiper_dis',pick_U=4)"
      ],
      "execution_count": 30,
      "outputs": [
        {
          "output_type": "display_data",
          "data": {
            "image/png": "[encoded data removed]",
            "text/plain": [
              "<Figure size 432x288 with 1 Axes>"
            ]
          },
          "metadata": {
            "tags": [],
            "needs_background": "light"
          }
        },
        {
          "output_type": "display_data",
          "data": {
            "image/png": "[encoded data removed]",
            "text/plain": [
              "<Figure size 432x288 with 2 Axes>"
            ]
          },
          "metadata": {
            "tags": [],
            "needs_background": "light"
          }
        },
        {
          "output_type": "display_data",
          "data": {
            "image/png": "[encoded data removed]",
            "text/plain": [
              "<Figure size 432x288 with 1 Axes>"
            ]
          },
          "metadata": {
            "tags": [],
            "needs_background": "light"
          }
        }
      ]
    },
    {
      "cell_type": "code",
      "metadata": {
        "id": "FEzvcCO8G157",
        "colab": {
          "base_uri": "https://localhost:8080/"
        },
        "outputId": "b6a2aa92-27f6-430e-d771-3e694c007819"
      },
      "source": [
        "if save == True:\n",
        "    cnns[training].save(f\"networks/anomaly_detection/Anomaly-Detection-network—{model}—{training}\")"
      ],
      "execution_count": null,
      "outputs": [
        {
          "output_type": "stream",
          "text": [
            "INFO:tensorflow:Assets written to: networks/anomaly_detection/Anomaly-Detection-network—quasiper_dis—0/assets\n"
          ],
          "name": "stdout"
        }
      ]
    },
    {
      "cell_type": "code",
      "metadata": {
        "id": "1XD-m4Eby4Yd"
      },
      "source": [
        "training = 1"
      ],
      "execution_count": null,
      "outputs": []
    },
    {
      "cell_type": "code",
      "metadata": {
        "id": "uUwukuj-y4Y1"
      },
      "source": [
        "train_Us = [(1.5,2.0)]\n",
        "train_Ws = [(0,2)]\n",
        "train_Uss.append(train_Us)\n",
        "train_Wss.append(train_Ws)"
      ],
      "execution_count": null,
      "outputs": []
    },
    {
      "cell_type": "code",
      "metadata": {
        "id": "v8xXOTf3y4Y2"
      },
      "source": [
        "tf.keras.backend.clear_session()"
      ],
      "execution_count": null,
      "outputs": []
    },
    {
      "cell_type": "code",
      "metadata": {
        "colab": {
          "base_uri": "https://localhost:8080/",
          "height": 304
        },
        "id": "FwAhcX9jy4Y2",
        "outputId": "4858758d-a40c-422c-c342-38de0bd4adae"
      },
      "source": [
        "x_train = []\n",
        "for Ws,Us in zip(train_Ws,train_Us):\n",
        "    # x_train.append(f[\"image\"][train_mask(*Us,*Ws)][:][:,:32,:8,np.newaxis])\n",
        "    x_train.append(f[\"image\"][train_mask(*Us,*Ws)][:][:,0,:8])\n",
        "print([_.shape for _ in x_train])\n",
        "x_train = np.concatenate(x_train)\n",
        "fig, ax = plt.subplots()\n",
        "# ax.contour(x0,y0,np.round(chern_number.T),levels=2)\n",
        "for Ws,Us in zip(train_Ws,train_Us):\n",
        "    plt.fill_between(*[Ws],*Us,alpha=0.3)\n",
        "plt.ylim(U.min(),U.max())\n",
        "plt.xlim(W.min(),W.max())"
      ],
      "execution_count": null,
      "outputs": [
        {
          "output_type": "stream",
          "text": [
            "[(300, 8)]\n"
          ],
          "name": "stdout"
        },
        {
          "output_type": "execute_result",
          "data": {
            "text/plain": [
              "(0.0, 5.0)"
            ]
          },
          "metadata": {
            "tags": []
          },
          "execution_count": 45
        },
        {
          "output_type": "display_data",
          "data": {
            "image/png": "[encoded data removed]",
            "text/plain": [
              "<Figure size 432x288 with 1 Axes>"
            ]
          },
          "metadata": {
            "tags": [],
            "needs_background": "light"
          }
        }
      ]
    },
    {
      "cell_type": "code",
      "metadata": {
        "colab": {
          "base_uri": "https://localhost:8080/",
          "height": 1000
        },
        "id": "_4pAp9nhy4Y3",
        "outputId": "e76aa230-ee59-4954-a4d8-d2b13173d71d"
      },
      "source": [
        "cnns[training], outs[training], douts[training], res[training] = full_run(x_train, load_prev=False, batch_epochs=500, training = training, dis='random_dis_1D_NN',pick_U=4)"
      ],
      "execution_count": null,
      "outputs": [
        {
          "output_type": "stream",
          "text": [
            "Epoch 1/500\n",
            "19/19 [==============================] - 0s 11ms/step - loss: 30.0638 - val_loss: 30.0667\n",
            "Epoch 2/500\n",
            "19/19 [==============================] - 0s 6ms/step - loss: 29.7669 - val_loss: 29.8969\n",
            "Epoch 3/500\n",
            "19/19 [==============================] - 0s 6ms/step - loss: 29.5418 - val_loss: 29.7285\n",
            "Epoch 4/500\n",
            "19/19 [==============================] - 0s 5ms/step - loss: 29.8001 - val_loss: 29.5607\n",
            "Epoch 5/500\n",
            "19/19 [==============================] - 0s 5ms/step - loss: 29.5856 - val_loss: 29.3944\n",
            "Epoch 6/500\n",
            "19/19 [==============================] - 0s 5ms/step - loss: 29.3631 - val_loss: 29.2290\n",
            "Epoch 7/500\n",
            "19/19 [==============================] - 0s 5ms/step - loss: 29.4112 - val_loss: 29.0644\n",
            "Epoch 8/500\n",
            "19/19 [==============================] - 0s 5ms/step - loss: 28.5312 - val_loss: 28.9014\n",
            "Epoch 9/500\n",
            "19/19 [==============================] - 0s 5ms/step - loss: 28.6410 - val_loss: 28.7390\n",
            "Epoch 10/500\n",
            "19/19 [==============================] - 0s 5ms/step - loss: 29.1567 - val_loss: 28.5774\n",
            "Epoch 11/500\n",
            "19/19 [==============================] - 0s 6ms/step - loss: 28.2991 - val_loss: 28.4175\n",
            "Epoch 12/500\n",
            "19/19 [==============================] - 0s 5ms/step - loss: 28.2780 - val_loss: 28.2578\n",
            "Epoch 13/500\n",
            "19/19 [==============================] - 0s 5ms/step - loss: 28.0586 - val_loss: 28.0994\n",
            "Epoch 14/500\n",
            "19/19 [==============================] - 0s 5ms/step - loss: 27.7904 - val_loss: 27.9425\n",
            "Epoch 15/500\n",
            "19/19 [==============================] - 0s 5ms/step - loss: 28.3384 - val_loss: 27.7854\n",
            "Epoch 16/500\n",
            "19/19 [==============================] - 0s 5ms/step - loss: 27.9433 - val_loss: 27.6302\n",
            "Epoch 17/500\n",
            "19/19 [==============================] - 0s 5ms/step - loss: 27.2238 - val_loss: 27.4758\n",
            "Epoch 18/500\n",
            "19/19 [==============================] - 0s 5ms/step - loss: 26.9844 - val_loss: 27.3223\n",
            "Epoch 19/500\n",
            "19/19 [==============================] - 0s 5ms/step - loss: 27.3296 - val_loss: 27.1695\n",
            "Epoch 20/500\n",
            "19/19 [==============================] - 0s 5ms/step - loss: 26.9680 - val_loss: 27.0178\n",
            "Epoch 21/500\n",
            "19/19 [==============================] - 0s 5ms/step - loss: 26.8044 - val_loss: 26.8668\n",
            "Epoch 22/500\n",
            "19/19 [==============================] - 0s 5ms/step - loss: 26.7400 - val_loss: 26.7170\n",
            "Epoch 23/500\n",
            "19/19 [==============================] - 0s 5ms/step - loss: 26.7813 - val_loss: 26.5677\n",
            "Epoch 24/500\n",
            "19/19 [==============================] - 0s 5ms/step - loss: 26.3260 - val_loss: 26.4200\n",
            "Epoch 25/500\n",
            "19/19 [==============================] - 0s 5ms/step - loss: 26.6269 - val_loss: 26.2723\n",
            "Epoch 26/500\n",
            "19/19 [==============================] - 0s 5ms/step - loss: 26.3715 - val_loss: 26.1259\n",
            "Epoch 27/500\n",
            "19/19 [==============================] - 0s 6ms/step - loss: 26.2418 - val_loss: 25.9799\n",
            "Epoch 28/500\n",
            "19/19 [==============================] - 0s 5ms/step - loss: 26.1509 - val_loss: 25.8355\n",
            "Epoch 29/500\n",
            "19/19 [==============================] - 0s 5ms/step - loss: 25.7468 - val_loss: 25.6916\n",
            "Epoch 30/500\n",
            "19/19 [==============================] - 0s 5ms/step - loss: 25.8524 - val_loss: 25.5487\n",
            "Epoch 31/500\n",
            "19/19 [==============================] - 0s 5ms/step - loss: 25.8230 - val_loss: 25.4064\n",
            "Epoch 32/500\n",
            "19/19 [==============================] - 0s 5ms/step - loss: 24.8895 - val_loss: 25.2655\n",
            "Epoch 33/500\n",
            "19/19 [==============================] - 0s 5ms/step - loss: 25.1204 - val_loss: 25.1245\n",
            "Epoch 34/500\n",
            "19/19 [==============================] - 0s 5ms/step - loss: 25.0780 - val_loss: 24.9848\n",
            "Epoch 35/500\n",
            "19/19 [==============================] - 0s 5ms/step - loss: 25.6042 - val_loss: 24.8455\n",
            "Epoch 36/500\n",
            "19/19 [==============================] - 0s 5ms/step - loss: 24.3301 - val_loss: 24.7082\n",
            "Epoch 37/500\n",
            "19/19 [==============================] - 0s 5ms/step - loss: 23.9353 - val_loss: 24.5708\n",
            "Epoch 38/500\n",
            "19/19 [==============================] - 0s 5ms/step - loss: 24.8095 - val_loss: 24.4337\n",
            "Epoch 39/500\n",
            "19/19 [==============================] - 0s 5ms/step - loss: 24.3731 - val_loss: 24.2978\n",
            "Epoch 40/500\n",
            "19/19 [==============================] - 0s 5ms/step - loss: 24.5523 - val_loss: 24.1625\n",
            "Epoch 41/500\n",
            "19/19 [==============================] - 0s 5ms/step - loss: 24.4821 - val_loss: 24.0283\n",
            "Epoch 42/500\n",
            "19/19 [==============================] - 0s 5ms/step - loss: 23.9032 - val_loss: 23.8954\n",
            "Epoch 43/500\n",
            "19/19 [==============================] - 0s 5ms/step - loss: 23.9762 - val_loss: 23.7624\n",
            "Epoch 44/500\n",
            "19/19 [==============================] - 0s 5ms/step - loss: 23.7455 - val_loss: 23.6304\n",
            "Epoch 45/500\n",
            "19/19 [==============================] - 0s 5ms/step - loss: 23.4129 - val_loss: 23.4992\n",
            "Epoch 46/500\n",
            "19/19 [==============================] - 0s 5ms/step - loss: 23.3402 - val_loss: 23.3682\n",
            "Epoch 47/500\n",
            "19/19 [==============================] - 0s 5ms/step - loss: 23.2390 - val_loss: 23.2386\n",
            "Epoch 48/500\n",
            "19/19 [==============================] - 0s 5ms/step - loss: 23.2159 - val_loss: 23.1091\n",
            "Epoch 49/500\n",
            "19/19 [==============================] - 0s 5ms/step - loss: 23.0192 - val_loss: 22.9809\n",
            "Epoch 50/500\n",
            "19/19 [==============================] - 0s 5ms/step - loss: 23.2457 - val_loss: 22.8527\n",
            "Epoch 51/500\n",
            "19/19 [==============================] - 0s 5ms/step - loss: 23.1826 - val_loss: 22.7255\n",
            "Epoch 52/500\n",
            "19/19 [==============================] - 0s 5ms/step - loss: 22.4113 - val_loss: 22.5996\n",
            "Epoch 53/500\n",
            "19/19 [==============================] - 0s 5ms/step - loss: 23.0992 - val_loss: 22.4733\n",
            "Epoch 54/500\n",
            "19/19 [==============================] - 0s 5ms/step - loss: 22.4736 - val_loss: 22.3485\n",
            "Epoch 55/500\n",
            "19/19 [==============================] - 0s 5ms/step - loss: 22.3077 - val_loss: 22.2242\n",
            "Epoch 56/500\n",
            "19/19 [==============================] - 0s 5ms/step - loss: 22.2327 - val_loss: 22.1001\n",
            "Epoch 57/500\n",
            "19/19 [==============================] - 0s 5ms/step - loss: 22.4600 - val_loss: 21.9767\n",
            "Epoch 58/500\n",
            "19/19 [==============================] - 0s 5ms/step - loss: 21.7334 - val_loss: 21.8547\n",
            "Epoch 59/500\n",
            "19/19 [==============================] - 0s 5ms/step - loss: 21.6548 - val_loss: 21.7326\n",
            "Epoch 60/500\n",
            "19/19 [==============================] - 0s 5ms/step - loss: 21.6470 - val_loss: 21.6112\n",
            "Epoch 61/500\n",
            "19/19 [==============================] - 0s 5ms/step - loss: 21.2360 - val_loss: 21.4907\n",
            "Epoch 62/500\n",
            "19/19 [==============================] - 0s 5ms/step - loss: 21.3066 - val_loss: 21.3705\n",
            "Epoch 63/500\n",
            "19/19 [==============================] - 0s 5ms/step - loss: 21.4877 - val_loss: 21.2508\n",
            "Epoch 64/500\n",
            "19/19 [==============================] - 0s 5ms/step - loss: 21.2727 - val_loss: 21.1320\n",
            "Epoch 65/500\n",
            "19/19 [==============================] - 0s 5ms/step - loss: 21.1594 - val_loss: 21.0138\n",
            "Epoch 66/500\n",
            "19/19 [==============================] - 0s 6ms/step - loss: 20.5888 - val_loss: 20.8964\n",
            "Epoch 67/500\n",
            "19/19 [==============================] - 0s 6ms/step - loss: 20.5849 - val_loss: 20.7793\n",
            "Epoch 68/500\n",
            "19/19 [==============================] - 0s 5ms/step - loss: 20.6901 - val_loss: 20.6626\n",
            "Epoch 69/500\n",
            "19/19 [==============================] - 0s 5ms/step - loss: 20.9105 - val_loss: 20.5464\n",
            "Epoch 70/500\n",
            "19/19 [==============================] - 0s 5ms/step - loss: 20.9172 - val_loss: 20.4312\n",
            "Epoch 71/500\n",
            "19/19 [==============================] - 0s 5ms/step - loss: 20.5736 - val_loss: 20.3164\n",
            "Epoch 72/500\n",
            "19/19 [==============================] - 0s 5ms/step - loss: 19.8935 - val_loss: 20.2022\n",
            "Epoch 73/500\n",
            "19/19 [==============================] - 0s 5ms/step - loss: 20.3129 - val_loss: 20.0884\n",
            "Epoch 74/500\n",
            "19/19 [==============================] - 0s 5ms/step - loss: 19.6854 - val_loss: 19.9756\n",
            "Epoch 75/500\n",
            "19/19 [==============================] - 0s 6ms/step - loss: 19.8633 - val_loss: 19.8627\n",
            "Epoch 76/500\n",
            "19/19 [==============================] - 0s 5ms/step - loss: 19.6455 - val_loss: 19.7508\n",
            "Epoch 77/500\n",
            "19/19 [==============================] - 0s 5ms/step - loss: 19.9245 - val_loss: 19.6389\n",
            "Epoch 78/500\n",
            "19/19 [==============================] - 0s 5ms/step - loss: 19.6617 - val_loss: 19.5278\n",
            "Epoch 79/500\n",
            "19/19 [==============================] - 0s 6ms/step - loss: 20.1736 - val_loss: 19.4167\n",
            "Epoch 80/500\n",
            "19/19 [==============================] - 0s 5ms/step - loss: 19.6990 - val_loss: 19.3070\n",
            "Epoch 81/500\n",
            "19/19 [==============================] - 0s 5ms/step - loss: 18.9844 - val_loss: 19.1979\n",
            "Epoch 82/500\n",
            "19/19 [==============================] - 0s 5ms/step - loss: 19.0269 - val_loss: 19.0889\n",
            "Epoch 83/500\n",
            "19/19 [==============================] - 0s 5ms/step - loss: 18.9841 - val_loss: 18.9803\n",
            "Epoch 84/500\n",
            "19/19 [==============================] - 0s 6ms/step - loss: 18.9069 - val_loss: 18.8725\n",
            "Epoch 85/500\n",
            "19/19 [==============================] - 0s 5ms/step - loss: 18.7383 - val_loss: 18.7649\n",
            "Epoch 86/500\n",
            "19/19 [==============================] - 0s 5ms/step - loss: 18.3287 - val_loss: 18.6580\n",
            "Epoch 87/500\n",
            "19/19 [==============================] - 0s 5ms/step - loss: 18.2286 - val_loss: 18.5512\n",
            "Epoch 88/500\n",
            "19/19 [==============================] - 0s 5ms/step - loss: 18.3685 - val_loss: 18.4452\n",
            "Epoch 89/500\n",
            "19/19 [==============================] - 0s 5ms/step - loss: 18.5594 - val_loss: 18.3396\n",
            "Epoch 90/500\n",
            "19/19 [==============================] - 0s 5ms/step - loss: 18.0186 - val_loss: 18.2346\n",
            "Epoch 91/500\n",
            "19/19 [==============================] - 0s 5ms/step - loss: 18.7354 - val_loss: 18.1296\n",
            "Epoch 92/500\n",
            "19/19 [==============================] - 0s 5ms/step - loss: 17.7575 - val_loss: 18.0260\n",
            "Epoch 93/500\n",
            "19/19 [==============================] - 0s 5ms/step - loss: 17.7941 - val_loss: 17.9223\n",
            "Epoch 94/500\n",
            "19/19 [==============================] - 0s 5ms/step - loss: 17.8426 - val_loss: 17.8188\n",
            "Epoch 95/500\n",
            "19/19 [==============================] - 0s 6ms/step - loss: 17.6228 - val_loss: 17.7162\n",
            "Epoch 96/500\n",
            "19/19 [==============================] - 0s 5ms/step - loss: 17.8263 - val_loss: 17.6137\n",
            "Epoch 97/500\n",
            "19/19 [==============================] - 0s 6ms/step - loss: 17.4725 - val_loss: 17.5118\n",
            "Epoch 98/500\n",
            "19/19 [==============================] - 0s 5ms/step - loss: 17.6751 - val_loss: 17.4104\n",
            "Epoch 99/500\n",
            "19/19 [==============================] - 0s 5ms/step - loss: 17.1387 - val_loss: 17.3093\n",
            "Epoch 100/500\n",
            "19/19 [==============================] - 0s 5ms/step - loss: 17.1177 - val_loss: 17.2087\n",
            "Epoch 101/500\n",
            "19/19 [==============================] - 0s 5ms/step - loss: 17.0853 - val_loss: 17.1083\n",
            "Epoch 102/500\n",
            "19/19 [==============================] - 0s 5ms/step - loss: 16.9981 - val_loss: 17.0090\n",
            "Epoch 103/500\n",
            "19/19 [==============================] - 0s 5ms/step - loss: 16.7099 - val_loss: 16.9097\n",
            "Epoch 104/500\n",
            "19/19 [==============================] - 0s 5ms/step - loss: 16.6018 - val_loss: 16.8104\n",
            "Epoch 105/500\n",
            "19/19 [==============================] - 0s 6ms/step - loss: 16.5149 - val_loss: 16.7124\n",
            "Epoch 106/500\n",
            "19/19 [==============================] - 0s 5ms/step - loss: 16.7744 - val_loss: 16.6139\n",
            "Epoch 107/500\n",
            "19/19 [==============================] - 0s 5ms/step - loss: 16.5121 - val_loss: 16.5166\n",
            "Epoch 108/500\n",
            "19/19 [==============================] - 0s 5ms/step - loss: 16.4780 - val_loss: 16.4192\n",
            "Epoch 109/500\n",
            "19/19 [==============================] - 0s 5ms/step - loss: 16.3501 - val_loss: 16.3225\n",
            "Epoch 110/500\n",
            "19/19 [==============================] - 0s 5ms/step - loss: 16.2887 - val_loss: 16.2260\n",
            "Epoch 111/500\n",
            "19/19 [==============================] - 0s 5ms/step - loss: 16.0292 - val_loss: 16.1300\n",
            "Epoch 112/500\n",
            "19/19 [==============================] - 0s 5ms/step - loss: 16.1073 - val_loss: 16.0344\n",
            "Epoch 113/500\n",
            "19/19 [==============================] - 0s 5ms/step - loss: 15.9798 - val_loss: 15.9390\n",
            "Epoch 114/500\n",
            "19/19 [==============================] - 0s 5ms/step - loss: 16.1340 - val_loss: 15.8440\n",
            "Epoch 115/500\n",
            "19/19 [==============================] - 0s 5ms/step - loss: 15.8395 - val_loss: 15.7496\n",
            "Epoch 116/500\n",
            "19/19 [==============================] - 0s 5ms/step - loss: 15.7911 - val_loss: 15.6554\n",
            "Epoch 117/500\n",
            "19/19 [==============================] - 0s 6ms/step - loss: 15.4918 - val_loss: 15.5618\n",
            "Epoch 118/500\n",
            "19/19 [==============================] - 0s 5ms/step - loss: 15.7442 - val_loss: 15.4685\n",
            "Epoch 119/500\n",
            "19/19 [==============================] - 0s 5ms/step - loss: 15.2474 - val_loss: 15.3759\n",
            "Epoch 120/500\n",
            "19/19 [==============================] - 0s 5ms/step - loss: 15.4681 - val_loss: 15.2830\n",
            "Epoch 121/500\n",
            "19/19 [==============================] - 0s 5ms/step - loss: 15.4105 - val_loss: 15.1910\n",
            "Epoch 122/500\n",
            "19/19 [==============================] - 0s 5ms/step - loss: 15.1370 - val_loss: 15.0993\n",
            "Epoch 123/500\n",
            "19/19 [==============================] - 0s 5ms/step - loss: 15.1457 - val_loss: 15.0078\n",
            "Epoch 124/500\n",
            "19/19 [==============================] - 0s 5ms/step - loss: 14.9748 - val_loss: 14.9167\n",
            "Epoch 125/500\n",
            "19/19 [==============================] - 0s 6ms/step - loss: 14.7158 - val_loss: 14.8264\n",
            "Epoch 126/500\n",
            "19/19 [==============================] - 0s 5ms/step - loss: 14.8021 - val_loss: 14.7358\n",
            "Epoch 127/500\n",
            "19/19 [==============================] - 0s 5ms/step - loss: 14.8266 - val_loss: 14.6457\n",
            "Epoch 128/500\n",
            "19/19 [==============================] - 0s 5ms/step - loss: 14.6569 - val_loss: 14.5562\n",
            "Epoch 129/500\n",
            "19/19 [==============================] - 0s 5ms/step - loss: 14.5955 - val_loss: 14.4671\n",
            "Epoch 130/500\n",
            "19/19 [==============================] - 0s 5ms/step - loss: 14.3162 - val_loss: 14.3782\n",
            "Epoch 131/500\n",
            "19/19 [==============================] - 0s 5ms/step - loss: 14.0918 - val_loss: 14.2897\n",
            "Epoch 132/500\n",
            "19/19 [==============================] - 0s 5ms/step - loss: 14.2062 - val_loss: 14.2014\n",
            "Epoch 133/500\n",
            "19/19 [==============================] - 0s 5ms/step - loss: 14.4792 - val_loss: 14.1134\n",
            "Epoch 134/500\n",
            "19/19 [==============================] - 0s 5ms/step - loss: 13.9420 - val_loss: 14.0262\n",
            "Epoch 135/500\n",
            "19/19 [==============================] - 0s 5ms/step - loss: 14.2216 - val_loss: 13.9390\n",
            "Epoch 136/500\n",
            "19/19 [==============================] - 0s 5ms/step - loss: 13.6815 - val_loss: 13.8525\n",
            "Epoch 137/500\n",
            "19/19 [==============================] - 0s 5ms/step - loss: 14.1636 - val_loss: 13.7657\n",
            "Epoch 138/500\n",
            "19/19 [==============================] - 0s 5ms/step - loss: 13.8327 - val_loss: 13.6798\n",
            "Epoch 139/500\n",
            "19/19 [==============================] - 0s 5ms/step - loss: 13.4964 - val_loss: 13.5942\n",
            "Epoch 140/500\n",
            "19/19 [==============================] - 0s 5ms/step - loss: 13.6116 - val_loss: 13.5089\n",
            "Epoch 141/500\n",
            "19/19 [==============================] - 0s 5ms/step - loss: 13.7722 - val_loss: 13.4239\n",
            "Epoch 142/500\n",
            "19/19 [==============================] - 0s 5ms/step - loss: 13.3359 - val_loss: 13.3395\n",
            "Epoch 143/500\n",
            "19/19 [==============================] - 0s 6ms/step - loss: 13.1234 - val_loss: 13.2552\n",
            "Epoch 144/500\n",
            "19/19 [==============================] - 0s 5ms/step - loss: 13.2238 - val_loss: 13.1710\n",
            "Epoch 145/500\n",
            "19/19 [==============================] - 0s 5ms/step - loss: 12.9494 - val_loss: 13.0877\n",
            "Epoch 146/500\n",
            "19/19 [==============================] - 0s 5ms/step - loss: 13.3304 - val_loss: 13.0042\n",
            "Epoch 147/500\n",
            "19/19 [==============================] - 0s 6ms/step - loss: 13.1620 - val_loss: 12.9213\n",
            "Epoch 148/500\n",
            "19/19 [==============================] - 0s 5ms/step - loss: 13.1791 - val_loss: 12.8386\n",
            "Epoch 149/500\n",
            "19/19 [==============================] - 0s 5ms/step - loss: 12.9348 - val_loss: 12.7564\n",
            "Epoch 150/500\n",
            "19/19 [==============================] - 0s 5ms/step - loss: 12.8687 - val_loss: 12.6748\n",
            "Epoch 151/500\n",
            "19/19 [==============================] - 0s 5ms/step - loss: 12.6622 - val_loss: 12.5933\n",
            "Epoch 152/500\n",
            "19/19 [==============================] - 0s 5ms/step - loss: 12.9864 - val_loss: 12.5117\n",
            "Epoch 153/500\n",
            "19/19 [==============================] - 0s 5ms/step - loss: 12.4565 - val_loss: 12.4313\n",
            "Epoch 154/500\n",
            "19/19 [==============================] - 0s 5ms/step - loss: 12.1908 - val_loss: 12.3513\n",
            "Epoch 155/500\n",
            "19/19 [==============================] - 0s 5ms/step - loss: 12.5672 - val_loss: 12.2706\n",
            "Epoch 156/500\n",
            "19/19 [==============================] - 0s 5ms/step - loss: 12.4401 - val_loss: 12.1907\n",
            "Epoch 157/500\n",
            "19/19 [==============================] - 0s 5ms/step - loss: 12.6942 - val_loss: 12.1108\n",
            "Epoch 158/500\n",
            "19/19 [==============================] - 0s 5ms/step - loss: 12.0170 - val_loss: 12.0321\n",
            "Epoch 159/500\n",
            "19/19 [==============================] - 0s 6ms/step - loss: 12.0668 - val_loss: 11.9530\n",
            "Epoch 160/500\n",
            "19/19 [==============================] - 0s 6ms/step - loss: 11.9771 - val_loss: 11.8745\n",
            "Epoch 161/500\n",
            "19/19 [==============================] - 0s 6ms/step - loss: 11.9796 - val_loss: 11.7964\n",
            "Epoch 162/500\n",
            "19/19 [==============================] - 0s 6ms/step - loss: 11.7077 - val_loss: 11.7185\n",
            "Epoch 163/500\n",
            "19/19 [==============================] - 0s 5ms/step - loss: 11.3451 - val_loss: 11.6410\n",
            "Epoch 164/500\n",
            "19/19 [==============================] - 0s 5ms/step - loss: 11.9257 - val_loss: 11.5634\n",
            "Epoch 165/500\n",
            "19/19 [==============================] - 0s 5ms/step - loss: 11.2938 - val_loss: 11.4869\n",
            "Epoch 166/500\n",
            "19/19 [==============================] - 0s 6ms/step - loss: 11.7703 - val_loss: 11.4099\n",
            "Epoch 167/500\n",
            "19/19 [==============================] - 0s 5ms/step - loss: 11.5714 - val_loss: 11.3338\n",
            "Epoch 168/500\n",
            "19/19 [==============================] - 0s 5ms/step - loss: 11.3944 - val_loss: 11.2578\n",
            "Epoch 169/500\n",
            "19/19 [==============================] - 0s 5ms/step - loss: 11.1200 - val_loss: 11.1823\n",
            "Epoch 170/500\n",
            "19/19 [==============================] - 0s 5ms/step - loss: 11.1914 - val_loss: 11.1072\n",
            "Epoch 171/500\n",
            "19/19 [==============================] - 0s 5ms/step - loss: 10.8702 - val_loss: 11.0325\n",
            "Epoch 172/500\n",
            "19/19 [==============================] - 0s 5ms/step - loss: 11.3325 - val_loss: 10.9573\n",
            "Epoch 173/500\n",
            "19/19 [==============================] - 0s 5ms/step - loss: 10.6235 - val_loss: 10.8834\n",
            "Epoch 174/500\n",
            "19/19 [==============================] - 0s 5ms/step - loss: 10.8523 - val_loss: 10.8089\n",
            "Epoch 175/500\n",
            "19/19 [==============================] - 0s 5ms/step - loss: 10.3293 - val_loss: 10.7356\n",
            "Epoch 176/500\n",
            "19/19 [==============================] - 0s 5ms/step - loss: 10.5501 - val_loss: 10.6620\n",
            "Epoch 177/500\n",
            "19/19 [==============================] - 0s 5ms/step - loss: 10.8596 - val_loss: 10.5886\n",
            "Epoch 178/500\n",
            "19/19 [==============================] - 0s 5ms/step - loss: 10.5215 - val_loss: 10.5161\n",
            "Epoch 179/500\n",
            "19/19 [==============================] - 0s 5ms/step - loss: 10.8056 - val_loss: 10.4433\n",
            "Epoch 180/500\n",
            "19/19 [==============================] - 0s 5ms/step - loss: 10.5871 - val_loss: 10.3714\n",
            "Epoch 181/500\n",
            "19/19 [==============================] - 0s 6ms/step - loss: 10.7062 - val_loss: 10.2998\n",
            "Epoch 182/500\n",
            "19/19 [==============================] - 0s 5ms/step - loss: 9.9998 - val_loss: 10.2287\n",
            "Epoch 183/500\n",
            "19/19 [==============================] - 0s 5ms/step - loss: 9.9595 - val_loss: 10.1576\n",
            "Epoch 184/500\n",
            "19/19 [==============================] - 0s 5ms/step - loss: 10.0953 - val_loss: 10.0866\n",
            "Epoch 185/500\n",
            "19/19 [==============================] - 0s 5ms/step - loss: 9.8001 - val_loss: 10.0161\n",
            "Epoch 186/500\n",
            "19/19 [==============================] - 0s 5ms/step - loss: 10.0558 - val_loss: 9.9456\n",
            "Epoch 187/500\n",
            "19/19 [==============================] - 0s 5ms/step - loss: 10.5030 - val_loss: 9.8752\n",
            "Epoch 188/500\n",
            "19/19 [==============================] - 0s 5ms/step - loss: 10.0389 - val_loss: 9.8058\n",
            "Epoch 189/500\n",
            "19/19 [==============================] - 0s 5ms/step - loss: 9.8338 - val_loss: 9.7369\n",
            "Epoch 190/500\n",
            "19/19 [==============================] - 0s 5ms/step - loss: 10.0334 - val_loss: 9.6676\n",
            "Epoch 191/500\n",
            "19/19 [==============================] - 0s 5ms/step - loss: 9.5602 - val_loss: 9.5993\n",
            "Epoch 192/500\n",
            "19/19 [==============================] - 0s 5ms/step - loss: 9.5895 - val_loss: 9.5310\n",
            "Epoch 193/500\n",
            "19/19 [==============================] - 0s 6ms/step - loss: 9.5427 - val_loss: 9.4628\n",
            "Epoch 194/500\n",
            "19/19 [==============================] - 0s 5ms/step - loss: 9.3948 - val_loss: 9.3950\n",
            "Epoch 195/500\n",
            "19/19 [==============================] - 0s 5ms/step - loss: 9.1111 - val_loss: 9.3279\n",
            "Epoch 196/500\n",
            "19/19 [==============================] - 0s 5ms/step - loss: 9.2230 - val_loss: 9.2605\n",
            "Epoch 197/500\n",
            "19/19 [==============================] - 0s 6ms/step - loss: 9.0905 - val_loss: 9.1937\n",
            "Epoch 198/500\n",
            "19/19 [==============================] - 0s 5ms/step - loss: 9.1541 - val_loss: 9.1271\n",
            "Epoch 199/500\n",
            "19/19 [==============================] - 0s 5ms/step - loss: 9.2803 - val_loss: 9.0606\n",
            "Epoch 200/500\n",
            "19/19 [==============================] - 0s 5ms/step - loss: 8.9028 - val_loss: 8.9951\n",
            "Epoch 201/500\n",
            "19/19 [==============================] - 0s 5ms/step - loss: 9.2330 - val_loss: 8.9291\n",
            "Epoch 202/500\n",
            "19/19 [==============================] - 0s 5ms/step - loss: 8.8127 - val_loss: 8.8640\n",
            "Epoch 203/500\n",
            "19/19 [==============================] - 0s 5ms/step - loss: 8.9039 - val_loss: 8.7988\n",
            "Epoch 204/500\n",
            "19/19 [==============================] - 0s 5ms/step - loss: 8.8646 - val_loss: 8.7343\n",
            "Epoch 205/500\n",
            "19/19 [==============================] - 0s 5ms/step - loss: 9.0504 - val_loss: 8.6697\n",
            "Epoch 206/500\n",
            "19/19 [==============================] - 0s 5ms/step - loss: 8.8718 - val_loss: 8.6056\n",
            "Epoch 207/500\n",
            "19/19 [==============================] - 0s 5ms/step - loss: 8.6211 - val_loss: 8.5420\n",
            "Epoch 208/500\n",
            "19/19 [==============================] - 0s 5ms/step - loss: 8.4411 - val_loss: 8.4787\n",
            "Epoch 209/500\n",
            "19/19 [==============================] - 0s 5ms/step - loss: 8.7100 - val_loss: 8.4152\n",
            "Epoch 210/500\n",
            "19/19 [==============================] - 0s 5ms/step - loss: 8.4001 - val_loss: 8.3524\n",
            "Epoch 211/500\n",
            "19/19 [==============================] - 0s 5ms/step - loss: 8.2573 - val_loss: 8.2898\n",
            "Epoch 212/500\n",
            "19/19 [==============================] - 0s 5ms/step - loss: 8.1748 - val_loss: 8.2276\n",
            "Epoch 213/500\n",
            "19/19 [==============================] - 0s 5ms/step - loss: 8.0763 - val_loss: 8.1657\n",
            "Epoch 214/500\n",
            "19/19 [==============================] - 0s 5ms/step - loss: 8.0367 - val_loss: 8.1040\n",
            "Epoch 215/500\n",
            "19/19 [==============================] - 0s 5ms/step - loss: 7.9533 - val_loss: 8.0425\n",
            "Epoch 216/500\n",
            "19/19 [==============================] - 0s 5ms/step - loss: 8.0210 - val_loss: 7.9814\n",
            "Epoch 217/500\n",
            "19/19 [==============================] - 0s 5ms/step - loss: 7.7915 - val_loss: 7.9207\n",
            "Epoch 218/500\n",
            "19/19 [==============================] - 0s 5ms/step - loss: 7.8588 - val_loss: 7.8600\n",
            "Epoch 219/500\n",
            "19/19 [==============================] - 0s 5ms/step - loss: 7.7399 - val_loss: 7.7996\n",
            "Epoch 220/500\n",
            "19/19 [==============================] - 0s 6ms/step - loss: 7.7947 - val_loss: 7.7395\n",
            "Epoch 221/500\n",
            "19/19 [==============================] - 0s 5ms/step - loss: 8.0208 - val_loss: 7.6796\n",
            "Epoch 222/500\n",
            "19/19 [==============================] - 0s 5ms/step - loss: 7.5427 - val_loss: 7.6210\n",
            "Epoch 223/500\n",
            "19/19 [==============================] - 0s 5ms/step - loss: 7.6644 - val_loss: 7.5617\n",
            "Epoch 224/500\n",
            "19/19 [==============================] - 0s 5ms/step - loss: 7.2479 - val_loss: 7.5032\n",
            "Epoch 225/500\n",
            "19/19 [==============================] - 0s 5ms/step - loss: 7.4626 - val_loss: 7.4447\n",
            "Epoch 226/500\n",
            "19/19 [==============================] - 0s 5ms/step - loss: 7.4655 - val_loss: 7.3863\n",
            "Epoch 227/500\n",
            "19/19 [==============================] - 0s 6ms/step - loss: 7.4203 - val_loss: 7.3282\n",
            "Epoch 228/500\n",
            "19/19 [==============================] - 0s 5ms/step - loss: 7.5724 - val_loss: 7.2703\n",
            "Epoch 229/500\n",
            "19/19 [==============================] - 0s 5ms/step - loss: 6.9175 - val_loss: 7.2138\n",
            "Epoch 230/500\n",
            "19/19 [==============================] - 0s 5ms/step - loss: 7.1466 - val_loss: 7.1566\n",
            "Epoch 231/500\n",
            "19/19 [==============================] - 0s 6ms/step - loss: 7.2304 - val_loss: 7.0996\n",
            "Epoch 232/500\n",
            "19/19 [==============================] - 0s 5ms/step - loss: 7.3290 - val_loss: 7.0430\n",
            "Epoch 233/500\n",
            "19/19 [==============================] - 0s 5ms/step - loss: 6.7870 - val_loss: 6.9872\n",
            "Epoch 234/500\n",
            "19/19 [==============================] - 0s 6ms/step - loss: 6.7771 - val_loss: 6.9315\n",
            "Epoch 235/500\n",
            "19/19 [==============================] - 0s 6ms/step - loss: 7.1361 - val_loss: 6.8752\n",
            "Epoch 236/500\n",
            "19/19 [==============================] - 0s 6ms/step - loss: 6.7547 - val_loss: 6.8202\n",
            "Epoch 237/500\n",
            "19/19 [==============================] - 0s 5ms/step - loss: 6.6130 - val_loss: 6.7654\n",
            "Epoch 238/500\n",
            "19/19 [==============================] - 0s 6ms/step - loss: 6.6905 - val_loss: 6.7106\n",
            "Epoch 239/500\n",
            "19/19 [==============================] - 0s 6ms/step - loss: 6.4927 - val_loss: 6.6563\n",
            "Epoch 240/500\n",
            "19/19 [==============================] - 0s 5ms/step - loss: 6.5958 - val_loss: 6.6020\n",
            "Epoch 241/500\n",
            "19/19 [==============================] - 0s 5ms/step - loss: 6.4937 - val_loss: 6.5482\n",
            "Epoch 242/500\n",
            "19/19 [==============================] - 0s 6ms/step - loss: 6.4854 - val_loss: 6.4944\n",
            "Epoch 243/500\n",
            "19/19 [==============================] - 0s 5ms/step - loss: 6.2780 - val_loss: 6.4413\n",
            "Epoch 244/500\n",
            "19/19 [==============================] - 0s 5ms/step - loss: 6.1617 - val_loss: 6.3886\n",
            "Epoch 245/500\n",
            "19/19 [==============================] - 0s 5ms/step - loss: 6.4850 - val_loss: 6.3352\n",
            "Epoch 246/500\n",
            "19/19 [==============================] - 0s 5ms/step - loss: 6.4139 - val_loss: 6.2828\n",
            "Epoch 247/500\n",
            "19/19 [==============================] - 0s 5ms/step - loss: 6.2263 - val_loss: 6.2305\n",
            "Epoch 248/500\n",
            "19/19 [==============================] - 0s 5ms/step - loss: 6.1544 - val_loss: 6.1789\n",
            "Epoch 249/500\n",
            "19/19 [==============================] - 0s 5ms/step - loss: 6.0642 - val_loss: 6.1273\n",
            "Epoch 250/500\n",
            "19/19 [==============================] - 0s 5ms/step - loss: 6.1140 - val_loss: 6.0759\n",
            "Epoch 251/500\n",
            "19/19 [==============================] - 0s 6ms/step - loss: 6.1133 - val_loss: 6.0246\n",
            "Epoch 252/500\n",
            "19/19 [==============================] - 0s 5ms/step - loss: 5.8461 - val_loss: 5.9741\n",
            "Epoch 253/500\n",
            "19/19 [==============================] - 0s 5ms/step - loss: 5.9613 - val_loss: 5.9233\n",
            "Epoch 254/500\n",
            "19/19 [==============================] - 0s 6ms/step - loss: 5.8139 - val_loss: 5.8729\n",
            "Epoch 255/500\n",
            "19/19 [==============================] - 0s 5ms/step - loss: 5.5634 - val_loss: 5.8235\n",
            "Epoch 256/500\n",
            "19/19 [==============================] - 0s 5ms/step - loss: 5.8279 - val_loss: 5.7734\n",
            "Epoch 257/500\n",
            "19/19 [==============================] - 0s 5ms/step - loss: 5.7110 - val_loss: 5.7239\n",
            "Epoch 258/500\n",
            "19/19 [==============================] - 0s 5ms/step - loss: 5.6817 - val_loss: 5.6749\n",
            "Epoch 259/500\n",
            "19/19 [==============================] - 0s 5ms/step - loss: 5.5435 - val_loss: 5.6261\n",
            "Epoch 260/500\n",
            "19/19 [==============================] - 0s 5ms/step - loss: 5.6445 - val_loss: 5.5775\n",
            "Epoch 261/500\n",
            "19/19 [==============================] - 0s 5ms/step - loss: 5.7088 - val_loss: 5.5294\n",
            "Epoch 262/500\n",
            "19/19 [==============================] - 0s 5ms/step - loss: 5.7874 - val_loss: 5.4807\n",
            "Epoch 263/500\n",
            "19/19 [==============================] - 0s 5ms/step - loss: 5.2805 - val_loss: 5.4337\n",
            "Epoch 264/500\n",
            "19/19 [==============================] - 0s 5ms/step - loss: 5.5293 - val_loss: 5.3860\n",
            "Epoch 265/500\n",
            "19/19 [==============================] - 0s 6ms/step - loss: 5.3808 - val_loss: 5.3390\n",
            "Epoch 266/500\n",
            "19/19 [==============================] - 0s 5ms/step - loss: 5.2091 - val_loss: 5.2922\n",
            "Epoch 267/500\n",
            "19/19 [==============================] - 0s 5ms/step - loss: 5.0020 - val_loss: 5.2456\n",
            "Epoch 268/500\n",
            "19/19 [==============================] - 0s 5ms/step - loss: 5.2278 - val_loss: 5.1988\n",
            "Epoch 269/500\n",
            "19/19 [==============================] - 0s 5ms/step - loss: 5.3568 - val_loss: 5.1523\n",
            "Epoch 270/500\n",
            "19/19 [==============================] - 0s 5ms/step - loss: 5.2795 - val_loss: 5.1067\n",
            "Epoch 271/500\n",
            "19/19 [==============================] - 0s 5ms/step - loss: 5.0796 - val_loss: 5.0613\n",
            "Epoch 272/500\n",
            "19/19 [==============================] - 0s 5ms/step - loss: 5.2295 - val_loss: 5.0159\n",
            "Epoch 273/500\n",
            "19/19 [==============================] - 0s 6ms/step - loss: 5.0746 - val_loss: 4.9709\n",
            "Epoch 274/500\n",
            "19/19 [==============================] - 0s 5ms/step - loss: 4.9433 - val_loss: 4.9262\n",
            "Epoch 275/500\n",
            "19/19 [==============================] - 0s 5ms/step - loss: 5.2204 - val_loss: 4.8814\n",
            "Epoch 276/500\n",
            "19/19 [==============================] - 0s 5ms/step - loss: 4.7969 - val_loss: 4.8375\n",
            "Epoch 277/500\n",
            "19/19 [==============================] - 0s 5ms/step - loss: 4.7607 - val_loss: 4.7936\n",
            "Epoch 278/500\n",
            "19/19 [==============================] - 0s 5ms/step - loss: 4.7799 - val_loss: 4.7498\n",
            "Epoch 279/500\n",
            "19/19 [==============================] - 0s 5ms/step - loss: 4.7079 - val_loss: 4.7064\n",
            "Epoch 280/500\n",
            "19/19 [==============================] - 0s 5ms/step - loss: 4.6258 - val_loss: 4.6635\n",
            "Epoch 281/500\n",
            "19/19 [==============================] - 0s 6ms/step - loss: 4.6557 - val_loss: 4.6202\n",
            "Epoch 282/500\n",
            "19/19 [==============================] - 0s 5ms/step - loss: 4.6709 - val_loss: 4.5777\n",
            "Epoch 283/500\n",
            "19/19 [==============================] - 0s 5ms/step - loss: 4.5392 - val_loss: 4.5352\n",
            "Epoch 284/500\n",
            "19/19 [==============================] - 0s 5ms/step - loss: 4.6034 - val_loss: 4.4930\n",
            "Epoch 285/500\n",
            "19/19 [==============================] - 0s 5ms/step - loss: 4.4723 - val_loss: 4.4513\n",
            "Epoch 286/500\n",
            "19/19 [==============================] - 0s 5ms/step - loss: 4.3259 - val_loss: 4.4096\n",
            "Epoch 287/500\n",
            "19/19 [==============================] - 0s 5ms/step - loss: 4.5577 - val_loss: 4.3681\n",
            "Epoch 288/500\n",
            "19/19 [==============================] - 0s 5ms/step - loss: 4.1468 - val_loss: 4.3273\n",
            "Epoch 289/500\n",
            "19/19 [==============================] - 0s 5ms/step - loss: 4.4784 - val_loss: 4.2863\n",
            "Epoch 290/500\n",
            "19/19 [==============================] - 0s 5ms/step - loss: 4.1101 - val_loss: 4.2460\n",
            "Epoch 291/500\n",
            "19/19 [==============================] - 0s 5ms/step - loss: 4.2120 - val_loss: 4.2055\n",
            "Epoch 292/500\n",
            "19/19 [==============================] - 0s 5ms/step - loss: 4.1162 - val_loss: 4.1656\n",
            "Epoch 293/500\n",
            "19/19 [==============================] - 0s 5ms/step - loss: 4.1897 - val_loss: 4.1256\n",
            "Epoch 294/500\n",
            "19/19 [==============================] - 0s 5ms/step - loss: 4.0836 - val_loss: 4.0861\n",
            "Epoch 295/500\n",
            "19/19 [==============================] - 0s 5ms/step - loss: 4.0466 - val_loss: 4.0468\n",
            "Epoch 296/500\n",
            "19/19 [==============================] - 0s 6ms/step - loss: 4.0779 - val_loss: 4.0077\n",
            "Epoch 297/500\n",
            "19/19 [==============================] - 0s 5ms/step - loss: 3.7876 - val_loss: 3.9693\n",
            "Epoch 298/500\n",
            "19/19 [==============================] - 0s 5ms/step - loss: 3.9238 - val_loss: 3.9304\n",
            "Epoch 299/500\n",
            "19/19 [==============================] - 0s 5ms/step - loss: 3.9068 - val_loss: 3.8921\n",
            "Epoch 300/500\n",
            "19/19 [==============================] - 0s 5ms/step - loss: 3.8564 - val_loss: 3.8540\n",
            "Epoch 301/500\n",
            "19/19 [==============================] - 0s 5ms/step - loss: 3.7832 - val_loss: 3.8164\n",
            "Epoch 302/500\n",
            "19/19 [==============================] - 0s 5ms/step - loss: 3.7151 - val_loss: 3.7790\n",
            "Epoch 303/500\n",
            "19/19 [==============================] - 0s 5ms/step - loss: 3.7084 - val_loss: 3.7415\n",
            "Epoch 304/500\n",
            "19/19 [==============================] - 0s 6ms/step - loss: 3.8820 - val_loss: 3.7041\n",
            "Epoch 305/500\n",
            "19/19 [==============================] - 0s 5ms/step - loss: 3.7226 - val_loss: 3.6678\n",
            "Epoch 306/500\n",
            "19/19 [==============================] - 0s 6ms/step - loss: 3.6288 - val_loss: 3.6310\n",
            "Epoch 307/500\n",
            "19/19 [==============================] - 0s 5ms/step - loss: 3.4829 - val_loss: 3.5952\n",
            "Epoch 308/500\n",
            "19/19 [==============================] - 0s 5ms/step - loss: 3.5684 - val_loss: 3.5593\n",
            "Epoch 309/500\n",
            "19/19 [==============================] - 0s 6ms/step - loss: 3.5238 - val_loss: 3.5234\n",
            "Epoch 310/500\n",
            "19/19 [==============================] - 0s 5ms/step - loss: 3.4817 - val_loss: 3.4878\n",
            "Epoch 311/500\n",
            "19/19 [==============================] - 0s 6ms/step - loss: 3.3762 - val_loss: 3.4526\n",
            "Epoch 312/500\n",
            "19/19 [==============================] - 0s 5ms/step - loss: 3.3665 - val_loss: 3.4177\n",
            "Epoch 313/500\n",
            "19/19 [==============================] - 0s 5ms/step - loss: 3.3672 - val_loss: 3.3828\n",
            "Epoch 314/500\n",
            "19/19 [==============================] - 0s 5ms/step - loss: 3.3914 - val_loss: 3.3482\n",
            "Epoch 315/500\n",
            "19/19 [==============================] - 0s 6ms/step - loss: 3.1705 - val_loss: 3.3141\n",
            "Epoch 316/500\n",
            "19/19 [==============================] - 0s 5ms/step - loss: 3.1377 - val_loss: 3.2802\n",
            "Epoch 317/500\n",
            "19/19 [==============================] - 0s 5ms/step - loss: 3.2871 - val_loss: 3.2461\n",
            "Epoch 318/500\n",
            "19/19 [==============================] - 0s 6ms/step - loss: 3.2183 - val_loss: 3.2128\n",
            "Epoch 319/500\n",
            "19/19 [==============================] - 0s 5ms/step - loss: 3.2421 - val_loss: 3.1793\n",
            "Epoch 320/500\n",
            "19/19 [==============================] - 0s 5ms/step - loss: 3.1528 - val_loss: 3.1463\n",
            "Epoch 321/500\n",
            "19/19 [==============================] - 0s 5ms/step - loss: 3.1077 - val_loss: 3.1138\n",
            "Epoch 322/500\n",
            "19/19 [==============================] - 0s 6ms/step - loss: 3.0144 - val_loss: 3.0812\n",
            "Epoch 323/500\n",
            "19/19 [==============================] - 0s 6ms/step - loss: 3.0507 - val_loss: 3.0486\n",
            "Epoch 324/500\n",
            "19/19 [==============================] - 0s 5ms/step - loss: 3.1754 - val_loss: 3.0164\n",
            "Epoch 325/500\n",
            "19/19 [==============================] - 0s 5ms/step - loss: 3.1756 - val_loss: 2.9846\n",
            "Epoch 326/500\n",
            "19/19 [==============================] - 0s 5ms/step - loss: 3.0129 - val_loss: 2.9532\n",
            "Epoch 327/500\n",
            "19/19 [==============================] - 0s 5ms/step - loss: 2.9255 - val_loss: 2.9222\n",
            "Epoch 328/500\n",
            "19/19 [==============================] - 0s 5ms/step - loss: 2.8621 - val_loss: 2.8909\n",
            "Epoch 329/500\n",
            "19/19 [==============================] - 0s 5ms/step - loss: 2.8755 - val_loss: 2.8602\n",
            "Epoch 330/500\n",
            "19/19 [==============================] - 0s 5ms/step - loss: 2.8546 - val_loss: 2.8295\n",
            "Epoch 331/500\n",
            "19/19 [==============================] - 0s 5ms/step - loss: 2.7255 - val_loss: 2.7992\n",
            "Epoch 332/500\n",
            "19/19 [==============================] - 0s 5ms/step - loss: 2.8581 - val_loss: 2.7689\n",
            "Epoch 333/500\n",
            "19/19 [==============================] - 0s 5ms/step - loss: 2.7327 - val_loss: 2.7392\n",
            "Epoch 334/500\n",
            "19/19 [==============================] - 0s 6ms/step - loss: 2.7308 - val_loss: 2.7094\n",
            "Epoch 335/500\n",
            "19/19 [==============================] - 0s 5ms/step - loss: 2.6197 - val_loss: 2.6801\n",
            "Epoch 336/500\n",
            "19/19 [==============================] - 0s 5ms/step - loss: 2.6820 - val_loss: 2.6505\n",
            "Epoch 337/500\n",
            "19/19 [==============================] - 0s 5ms/step - loss: 2.5718 - val_loss: 2.6218\n",
            "Epoch 338/500\n",
            "19/19 [==============================] - 0s 5ms/step - loss: 2.6286 - val_loss: 2.5929\n",
            "Epoch 339/500\n",
            "19/19 [==============================] - 0s 5ms/step - loss: 2.4693 - val_loss: 2.5645\n",
            "Epoch 340/500\n",
            "19/19 [==============================] - 0s 5ms/step - loss: 2.5678 - val_loss: 2.5362\n",
            "Epoch 341/500\n",
            "19/19 [==============================] - 0s 5ms/step - loss: 2.5383 - val_loss: 2.5082\n",
            "Epoch 342/500\n",
            "19/19 [==============================] - 0s 6ms/step - loss: 2.4826 - val_loss: 2.4804\n",
            "Epoch 343/500\n",
            "19/19 [==============================] - 0s 5ms/step - loss: 2.3767 - val_loss: 2.4530\n",
            "Epoch 344/500\n",
            "19/19 [==============================] - 0s 5ms/step - loss: 2.5378 - val_loss: 2.4255\n",
            "Epoch 345/500\n",
            "19/19 [==============================] - 0s 6ms/step - loss: 2.3032 - val_loss: 2.3986\n",
            "Epoch 346/500\n",
            "19/19 [==============================] - 0s 5ms/step - loss: 2.4002 - val_loss: 2.3717\n",
            "Epoch 347/500\n",
            "19/19 [==============================] - 0s 5ms/step - loss: 2.3642 - val_loss: 2.3449\n",
            "Epoch 348/500\n",
            "19/19 [==============================] - 0s 5ms/step - loss: 2.3310 - val_loss: 2.3185\n",
            "Epoch 349/500\n",
            "19/19 [==============================] - 0s 5ms/step - loss: 2.3888 - val_loss: 2.2922\n",
            "Epoch 350/500\n",
            "19/19 [==============================] - 0s 5ms/step - loss: 2.1501 - val_loss: 2.2663\n",
            "Epoch 351/500\n",
            "19/19 [==============================] - 0s 6ms/step - loss: 2.3363 - val_loss: 2.2404\n",
            "Epoch 352/500\n",
            "19/19 [==============================] - 0s 5ms/step - loss: 2.2950 - val_loss: 2.2149\n",
            "Epoch 353/500\n",
            "19/19 [==============================] - 0s 5ms/step - loss: 2.2818 - val_loss: 2.1895\n",
            "Epoch 354/500\n",
            "19/19 [==============================] - 0s 5ms/step - loss: 2.2020 - val_loss: 2.1645\n",
            "Epoch 355/500\n",
            "19/19 [==============================] - 0s 5ms/step - loss: 2.0953 - val_loss: 2.1396\n",
            "Epoch 356/500\n",
            "19/19 [==============================] - 0s 6ms/step - loss: 2.1054 - val_loss: 2.1150\n",
            "Epoch 357/500\n",
            "19/19 [==============================] - 0s 5ms/step - loss: 2.1551 - val_loss: 2.0902\n",
            "Epoch 358/500\n",
            "19/19 [==============================] - 0s 5ms/step - loss: 2.0581 - val_loss: 2.0664\n",
            "Epoch 359/500\n",
            "19/19 [==============================] - 0s 6ms/step - loss: 2.1227 - val_loss: 2.0423\n",
            "Epoch 360/500\n",
            "19/19 [==============================] - 0s 6ms/step - loss: 2.0736 - val_loss: 2.0184\n",
            "Epoch 361/500\n",
            "19/19 [==============================] - 0s 6ms/step - loss: 2.0299 - val_loss: 1.9950\n",
            "Epoch 362/500\n",
            "19/19 [==============================] - 0s 5ms/step - loss: 1.9395 - val_loss: 1.9717\n",
            "Epoch 363/500\n",
            "19/19 [==============================] - 0s 5ms/step - loss: 1.9647 - val_loss: 1.9485\n",
            "Epoch 364/500\n",
            "19/19 [==============================] - 0s 5ms/step - loss: 1.9647 - val_loss: 1.9254\n",
            "Epoch 365/500\n",
            "19/19 [==============================] - 0s 5ms/step - loss: 1.8812 - val_loss: 1.9026\n",
            "Epoch 366/500\n",
            "19/19 [==============================] - 0s 5ms/step - loss: 1.8291 - val_loss: 1.8803\n",
            "Epoch 367/500\n",
            "19/19 [==============================] - 0s 5ms/step - loss: 1.8788 - val_loss: 1.8576\n",
            "Epoch 368/500\n",
            "19/19 [==============================] - 0s 5ms/step - loss: 1.8782 - val_loss: 1.8359\n",
            "Epoch 369/500\n",
            "19/19 [==============================] - 0s 5ms/step - loss: 1.7562 - val_loss: 1.8139\n",
            "Epoch 370/500\n",
            "19/19 [==============================] - 0s 5ms/step - loss: 1.7969 - val_loss: 1.7923\n",
            "Epoch 371/500\n",
            "19/19 [==============================] - 0s 6ms/step - loss: 1.7097 - val_loss: 1.7709\n",
            "Epoch 372/500\n",
            "19/19 [==============================] - 0s 6ms/step - loss: 1.8130 - val_loss: 1.7496\n",
            "Epoch 373/500\n",
            "19/19 [==============================] - 0s 5ms/step - loss: 1.7345 - val_loss: 1.7286\n",
            "Epoch 374/500\n",
            "19/19 [==============================] - 0s 5ms/step - loss: 1.7046 - val_loss: 1.7078\n",
            "Epoch 375/500\n",
            "19/19 [==============================] - 0s 5ms/step - loss: 1.6928 - val_loss: 1.6873\n",
            "Epoch 376/500\n",
            "19/19 [==============================] - 0s 5ms/step - loss: 1.6097 - val_loss: 1.6670\n",
            "Epoch 377/500\n",
            "19/19 [==============================] - 0s 5ms/step - loss: 1.6039 - val_loss: 1.6469\n",
            "Epoch 378/500\n",
            "19/19 [==============================] - 0s 5ms/step - loss: 1.5829 - val_loss: 1.6268\n",
            "Epoch 379/500\n",
            "19/19 [==============================] - 0s 6ms/step - loss: 1.6724 - val_loss: 1.6069\n",
            "Epoch 380/500\n",
            "19/19 [==============================] - 0s 6ms/step - loss: 1.7115 - val_loss: 1.5871\n",
            "Epoch 381/500\n",
            "19/19 [==============================] - 0s 6ms/step - loss: 1.6347 - val_loss: 1.5680\n",
            "Epoch 382/500\n",
            "19/19 [==============================] - 0s 6ms/step - loss: 1.6389 - val_loss: 1.5489\n",
            "Epoch 383/500\n",
            "19/19 [==============================] - 0s 5ms/step - loss: 1.6160 - val_loss: 1.5298\n",
            "Epoch 384/500\n",
            "19/19 [==============================] - 0s 5ms/step - loss: 1.5538 - val_loss: 1.5112\n",
            "Epoch 385/500\n",
            "19/19 [==============================] - 0s 5ms/step - loss: 1.4409 - val_loss: 1.4927\n",
            "Epoch 386/500\n",
            "19/19 [==============================] - 0s 6ms/step - loss: 1.4755 - val_loss: 1.4743\n",
            "Epoch 387/500\n",
            "19/19 [==============================] - 0s 5ms/step - loss: 1.4649 - val_loss: 1.4562\n",
            "Epoch 388/500\n",
            "19/19 [==============================] - 0s 6ms/step - loss: 1.4478 - val_loss: 1.4380\n",
            "Epoch 389/500\n",
            "19/19 [==============================] - 0s 5ms/step - loss: 1.4206 - val_loss: 1.4203\n",
            "Epoch 390/500\n",
            "19/19 [==============================] - 0s 5ms/step - loss: 1.4447 - val_loss: 1.4026\n",
            "Epoch 391/500\n",
            "19/19 [==============================] - 0s 5ms/step - loss: 1.4279 - val_loss: 1.3852\n",
            "Epoch 392/500\n",
            "19/19 [==============================] - 0s 5ms/step - loss: 1.3427 - val_loss: 1.3683\n",
            "Epoch 393/500\n",
            "19/19 [==============================] - 0s 5ms/step - loss: 1.4905 - val_loss: 1.3510\n",
            "Epoch 394/500\n",
            "19/19 [==============================] - 0s 6ms/step - loss: 1.3741 - val_loss: 1.3344\n",
            "Epoch 395/500\n",
            "19/19 [==============================] - 0s 5ms/step - loss: 1.3338 - val_loss: 1.3176\n",
            "Epoch 396/500\n",
            "19/19 [==============================] - 0s 5ms/step - loss: 1.4097 - val_loss: 1.3010\n",
            "Epoch 397/500\n",
            "19/19 [==============================] - 0s 5ms/step - loss: 1.2752 - val_loss: 1.2851\n",
            "Epoch 398/500\n",
            "19/19 [==============================] - 0s 5ms/step - loss: 1.2236 - val_loss: 1.2691\n",
            "Epoch 399/500\n",
            "19/19 [==============================] - 0s 5ms/step - loss: 1.2320 - val_loss: 1.2533\n",
            "Epoch 400/500\n",
            "19/19 [==============================] - 0s 5ms/step - loss: 1.2579 - val_loss: 1.2373\n",
            "Epoch 401/500\n",
            "19/19 [==============================] - 0s 5ms/step - loss: 1.1472 - val_loss: 1.2220\n",
            "Epoch 402/500\n",
            "19/19 [==============================] - 0s 5ms/step - loss: 1.2227 - val_loss: 1.2065\n",
            "Epoch 403/500\n",
            "19/19 [==============================] - 0s 5ms/step - loss: 1.2349 - val_loss: 1.1911\n",
            "Epoch 404/500\n",
            "19/19 [==============================] - 0s 6ms/step - loss: 1.2573 - val_loss: 1.1763\n",
            "Epoch 405/500\n",
            "19/19 [==============================] - 0s 6ms/step - loss: 1.1364 - val_loss: 1.1616\n",
            "Epoch 406/500\n",
            "19/19 [==============================] - 0s 6ms/step - loss: 1.1443 - val_loss: 1.1469\n",
            "Epoch 407/500\n",
            "19/19 [==============================] - 0s 5ms/step - loss: 1.1207 - val_loss: 1.1326\n",
            "Epoch 408/500\n",
            "19/19 [==============================] - 0s 6ms/step - loss: 1.1148 - val_loss: 1.1185\n",
            "Epoch 409/500\n",
            "19/19 [==============================] - 0s 5ms/step - loss: 1.1035 - val_loss: 1.1043\n",
            "Epoch 410/500\n",
            "19/19 [==============================] - 0s 6ms/step - loss: 1.1101 - val_loss: 1.0905\n",
            "Epoch 411/500\n",
            "19/19 [==============================] - 0s 6ms/step - loss: 1.0585 - val_loss: 1.0767\n",
            "Epoch 412/500\n",
            "19/19 [==============================] - 0s 5ms/step - loss: 1.0261 - val_loss: 1.0631\n",
            "Epoch 413/500\n",
            "19/19 [==============================] - 0s 5ms/step - loss: 1.0949 - val_loss: 1.0496\n",
            "Epoch 414/500\n",
            "19/19 [==============================] - 0s 5ms/step - loss: 1.0378 - val_loss: 1.0365\n",
            "Epoch 415/500\n",
            "19/19 [==============================] - 0s 5ms/step - loss: 1.0956 - val_loss: 1.0233\n",
            "Epoch 416/500\n",
            "19/19 [==============================] - 0s 5ms/step - loss: 1.0300 - val_loss: 1.0106\n",
            "Epoch 417/500\n",
            "19/19 [==============================] - 0s 5ms/step - loss: 1.0285 - val_loss: 0.9979\n",
            "Epoch 418/500\n",
            "19/19 [==============================] - 0s 5ms/step - loss: 0.9573 - val_loss: 0.9856\n",
            "Epoch 419/500\n",
            "19/19 [==============================] - 0s 5ms/step - loss: 0.9243 - val_loss: 0.9733\n",
            "Epoch 420/500\n",
            "19/19 [==============================] - 0s 5ms/step - loss: 0.9626 - val_loss: 0.9609\n",
            "Epoch 421/500\n",
            "19/19 [==============================] - 0s 6ms/step - loss: 0.9614 - val_loss: 0.9489\n",
            "Epoch 422/500\n",
            "19/19 [==============================] - 0s 5ms/step - loss: 0.9877 - val_loss: 0.9369\n",
            "Epoch 423/500\n",
            "19/19 [==============================] - 0s 5ms/step - loss: 0.9393 - val_loss: 0.9254\n",
            "Epoch 424/500\n",
            "19/19 [==============================] - 0s 6ms/step - loss: 0.9452 - val_loss: 0.9139\n",
            "Epoch 425/500\n",
            "19/19 [==============================] - 0s 5ms/step - loss: 0.8458 - val_loss: 0.9027\n",
            "Epoch 426/500\n",
            "19/19 [==============================] - 0s 5ms/step - loss: 0.9057 - val_loss: 0.8913\n",
            "Epoch 427/500\n",
            "19/19 [==============================] - 0s 6ms/step - loss: 0.8493 - val_loss: 0.8805\n",
            "Epoch 428/500\n",
            "19/19 [==============================] - 0s 5ms/step - loss: 0.9025 - val_loss: 0.8695\n",
            "Epoch 429/500\n",
            "19/19 [==============================] - 0s 5ms/step - loss: 0.8551 - val_loss: 0.8587\n",
            "Epoch 430/500\n",
            "19/19 [==============================] - 0s 5ms/step - loss: 0.8585 - val_loss: 0.8480\n",
            "Epoch 431/500\n",
            "19/19 [==============================] - 0s 5ms/step - loss: 0.7970 - val_loss: 0.8377\n",
            "Epoch 432/500\n",
            "19/19 [==============================] - 0s 6ms/step - loss: 0.8266 - val_loss: 0.8274\n",
            "Epoch 433/500\n",
            "19/19 [==============================] - 0s 5ms/step - loss: 0.8089 - val_loss: 0.8174\n",
            "Epoch 434/500\n",
            "19/19 [==============================] - 0s 5ms/step - loss: 0.8177 - val_loss: 0.8074\n",
            "Epoch 435/500\n",
            "19/19 [==============================] - 0s 5ms/step - loss: 0.8316 - val_loss: 0.7975\n",
            "Epoch 436/500\n",
            "19/19 [==============================] - 0s 6ms/step - loss: 0.8112 - val_loss: 0.7877\n",
            "Epoch 437/500\n",
            "19/19 [==============================] - 0s 6ms/step - loss: 0.7881 - val_loss: 0.7784\n",
            "Epoch 438/500\n",
            "19/19 [==============================] - 0s 6ms/step - loss: 0.7018 - val_loss: 0.7693\n",
            "Epoch 439/500\n",
            "19/19 [==============================] - 0s 5ms/step - loss: 0.7610 - val_loss: 0.7598\n",
            "Epoch 440/500\n",
            "19/19 [==============================] - 0s 5ms/step - loss: 0.7056 - val_loss: 0.7510\n",
            "Epoch 441/500\n",
            "19/19 [==============================] - 0s 5ms/step - loss: 0.7406 - val_loss: 0.7419\n",
            "Epoch 442/500\n",
            "19/19 [==============================] - 0s 6ms/step - loss: 0.7331 - val_loss: 0.7330\n",
            "Epoch 443/500\n",
            "19/19 [==============================] - 0s 5ms/step - loss: 0.7208 - val_loss: 0.7243\n",
            "Epoch 444/500\n",
            "19/19 [==============================] - 0s 5ms/step - loss: 0.7395 - val_loss: 0.7158\n",
            "Epoch 445/500\n",
            "19/19 [==============================] - 0s 6ms/step - loss: 0.6810 - val_loss: 0.7077\n",
            "Epoch 446/500\n",
            "19/19 [==============================] - 0s 5ms/step - loss: 0.7276 - val_loss: 0.6992\n",
            "Epoch 447/500\n",
            "19/19 [==============================] - 0s 5ms/step - loss: 0.6869 - val_loss: 0.6911\n",
            "Epoch 448/500\n",
            "19/19 [==============================] - 0s 5ms/step - loss: 0.6693 - val_loss: 0.6833\n",
            "Epoch 449/500\n",
            "19/19 [==============================] - 0s 5ms/step - loss: 0.6377 - val_loss: 0.6755\n",
            "Epoch 450/500\n",
            "19/19 [==============================] - 0s 5ms/step - loss: 0.6969 - val_loss: 0.6679\n",
            "Epoch 451/500\n",
            "19/19 [==============================] - 0s 5ms/step - loss: 0.6600 - val_loss: 0.6604\n",
            "Epoch 452/500\n",
            "19/19 [==============================] - 0s 5ms/step - loss: 0.6562 - val_loss: 0.6530\n",
            "Epoch 453/500\n",
            "19/19 [==============================] - 0s 6ms/step - loss: 0.6297 - val_loss: 0.6456\n",
            "Epoch 454/500\n",
            "19/19 [==============================] - 0s 6ms/step - loss: 0.6104 - val_loss: 0.6386\n",
            "Epoch 455/500\n",
            "19/19 [==============================] - 0s 5ms/step - loss: 0.6480 - val_loss: 0.6315\n",
            "Epoch 456/500\n",
            "19/19 [==============================] - 0s 6ms/step - loss: 0.6115 - val_loss: 0.6247\n",
            "Epoch 457/500\n",
            "19/19 [==============================] - 0s 6ms/step - loss: 0.6218 - val_loss: 0.6178\n",
            "Epoch 458/500\n",
            "19/19 [==============================] - 0s 6ms/step - loss: 0.6142 - val_loss: 0.6114\n",
            "Epoch 459/500\n",
            "19/19 [==============================] - 0s 5ms/step - loss: 0.5855 - val_loss: 0.6049\n",
            "Epoch 460/500\n",
            "19/19 [==============================] - 0s 6ms/step - loss: 0.6062 - val_loss: 0.5982\n",
            "Epoch 461/500\n",
            "19/19 [==============================] - 0s 5ms/step - loss: 0.6172 - val_loss: 0.5919\n",
            "Epoch 462/500\n",
            "19/19 [==============================] - 0s 6ms/step - loss: 0.5801 - val_loss: 0.5859\n",
            "Epoch 463/500\n",
            "19/19 [==============================] - 0s 5ms/step - loss: 0.6154 - val_loss: 0.5797\n",
            "Epoch 464/500\n",
            "19/19 [==============================] - 0s 5ms/step - loss: 0.5620 - val_loss: 0.5738\n",
            "Epoch 465/500\n",
            "19/19 [==============================] - 0s 6ms/step - loss: 0.5776 - val_loss: 0.5679\n",
            "Epoch 466/500\n",
            "19/19 [==============================] - 0s 5ms/step - loss: 0.5810 - val_loss: 0.5622\n",
            "Epoch 467/500\n",
            "19/19 [==============================] - 0s 6ms/step - loss: 0.5547 - val_loss: 0.5566\n",
            "Epoch 468/500\n",
            "19/19 [==============================] - 0s 5ms/step - loss: 0.5472 - val_loss: 0.5512\n",
            "Epoch 469/500\n",
            "19/19 [==============================] - 0s 5ms/step - loss: 0.5622 - val_loss: 0.5457\n",
            "Epoch 470/500\n",
            "19/19 [==============================] - 0s 6ms/step - loss: 0.5384 - val_loss: 0.5406\n",
            "Epoch 471/500\n",
            "19/19 [==============================] - 0s 5ms/step - loss: 0.5188 - val_loss: 0.5354\n",
            "Epoch 472/500\n",
            "19/19 [==============================] - 0s 5ms/step - loss: 0.5485 - val_loss: 0.5302\n",
            "Epoch 473/500\n",
            "19/19 [==============================] - 0s 5ms/step - loss: 0.5528 - val_loss: 0.5252\n",
            "Epoch 474/500\n",
            "19/19 [==============================] - 0s 5ms/step - loss: 0.5344 - val_loss: 0.5202\n",
            "Epoch 475/500\n",
            "19/19 [==============================] - 0s 6ms/step - loss: 0.5084 - val_loss: 0.5158\n",
            "Epoch 476/500\n",
            "19/19 [==============================] - 0s 5ms/step - loss: 0.5214 - val_loss: 0.5110\n",
            "Epoch 477/500\n",
            "19/19 [==============================] - 0s 6ms/step - loss: 0.5086 - val_loss: 0.5066\n",
            "Epoch 478/500\n",
            "19/19 [==============================] - 0s 5ms/step - loss: 0.5061 - val_loss: 0.5021\n",
            "Epoch 479/500\n",
            "19/19 [==============================] - 0s 5ms/step - loss: 0.4922 - val_loss: 0.4979\n",
            "Epoch 480/500\n",
            "19/19 [==============================] - 0s 6ms/step - loss: 0.5093 - val_loss: 0.4935\n",
            "Epoch 481/500\n",
            "19/19 [==============================] - 0s 5ms/step - loss: 0.4967 - val_loss: 0.4893\n",
            "Epoch 482/500\n",
            "19/19 [==============================] - 0s 6ms/step - loss: 0.5120 - val_loss: 0.4852\n",
            "Epoch 483/500\n",
            "19/19 [==============================] - 0s 5ms/step - loss: 0.4844 - val_loss: 0.4814\n",
            "Epoch 484/500\n",
            "19/19 [==============================] - 0s 5ms/step - loss: 0.4988 - val_loss: 0.4776\n",
            "Epoch 485/500\n",
            "19/19 [==============================] - 0s 6ms/step - loss: 0.4867 - val_loss: 0.4736\n",
            "Epoch 486/500\n",
            "19/19 [==============================] - 0s 5ms/step - loss: 0.4521 - val_loss: 0.4701\n",
            "Epoch 487/500\n",
            "19/19 [==============================] - 0s 5ms/step - loss: 0.4784 - val_loss: 0.4663\n",
            "Epoch 488/500\n",
            "19/19 [==============================] - 0s 6ms/step - loss: 0.4635 - val_loss: 0.4629\n",
            "Epoch 489/500\n",
            "19/19 [==============================] - 0s 5ms/step - loss: 0.4660 - val_loss: 0.4594\n",
            "Epoch 490/500\n",
            "19/19 [==============================] - 0s 5ms/step - loss: 0.4590 - val_loss: 0.4560\n",
            "Epoch 491/500\n",
            "19/19 [==============================] - 0s 6ms/step - loss: 0.4736 - val_loss: 0.4528\n",
            "Epoch 492/500\n",
            "19/19 [==============================] - 0s 5ms/step - loss: 0.4324 - val_loss: 0.4497\n",
            "Epoch 493/500\n",
            "19/19 [==============================] - 0s 5ms/step - loss: 0.4429 - val_loss: 0.4464\n",
            "Epoch 494/500\n",
            "19/19 [==============================] - 0s 6ms/step - loss: 0.4427 - val_loss: 0.4434\n",
            "Epoch 495/500\n",
            "19/19 [==============================] - 0s 5ms/step - loss: 0.4150 - val_loss: 0.4404\n",
            "Epoch 496/500\n",
            "19/19 [==============================] - 0s 6ms/step - loss: 0.4355 - val_loss: 0.4376\n",
            "Epoch 497/500\n",
            "19/19 [==============================] - 0s 5ms/step - loss: 0.4583 - val_loss: 0.4349\n",
            "Epoch 498/500\n",
            "19/19 [==============================] - 0s 5ms/step - loss: 0.4434 - val_loss: 0.4320\n",
            "Epoch 499/500\n",
            "19/19 [==============================] - 0s 5ms/step - loss: 0.4134 - val_loss: 0.4293\n",
            "Epoch 500/500\n",
            "19/19 [==============================] - 0s 5ms/step - loss: 0.4305 - val_loss: 0.4269\n"
          ],
          "name": "stdout"
        },
        {
          "output_type": "display_data",
          "data": {
            "image/png": "[encoded data removed]",
            "text/plain": [
              "<Figure size 432x288 with 1 Axes>"
            ]
          },
          "metadata": {
            "tags": [],
            "needs_background": "light"
          }
        },
        {
          "output_type": "display_data",
          "data": {
            "image/png": "[encoded data removed]",
            "text/plain": [
              "<Figure size 432x288 with 2 Axes>"
            ]
          },
          "metadata": {
            "tags": [],
            "needs_background": "light"
          }
        },
        {
          "output_type": "display_data",
          "data": {
            "image/png": "[encoded data removed]",
            "text/plain": [
              "<Figure size 432x288 with 1 Axes>"
            ]
          },
          "metadata": {
            "tags": [],
            "needs_background": "light"
          }
        }
      ]
    },
    {
      "cell_type": "code",
      "metadata": {
        "colab": {
          "base_uri": "https://localhost:8080/"
        },
        "id": "Y8dwmoHcsJGn",
        "outputId": "11bb8709-8670-406d-8299-3d697931481b"
      },
      "source": [
        "if save == True:\n",
        "    cnns[training].save(f\"networks/anomaly_detection/Anomaly-Detection-network-{model}-{training}\")"
      ],
      "execution_count": null,
      "outputs": [
        {
          "output_type": "stream",
          "text": [
            "INFO:tensorflow:Assets written to: networks/anomaly_detection/Anomaly-Detection-network-quasiper_dis-1/assets\n"
          ],
          "name": "stdout"
        }
      ]
    },
    {
      "cell_type": "markdown",
      "metadata": {
        "id": "CbfHejamG5u9"
      },
      "source": [
        "### Topo. nontrivial area"
      ]
    },
    {
      "cell_type": "code",
      "metadata": {
        "id": "S9kOcm9dSolg"
      },
      "source": [
        "training = 2"
      ],
      "execution_count": null,
      "outputs": []
    },
    {
      "cell_type": "code",
      "metadata": {
        "id": "iovfRMUwSibV"
      },
      "source": [
        "train_Us = [(1.5,2)]\n",
        "train_Ws = [(4,5)]\n",
        "train_Uss.append(train_Us)\n",
        "train_Wss.append(train_Ws)"
      ],
      "execution_count": null,
      "outputs": []
    },
    {
      "cell_type": "code",
      "metadata": {
        "id": "8vDjuZ8ASfFS"
      },
      "source": [
        "tf.keras.backend.clear_session()"
      ],
      "execution_count": null,
      "outputs": []
    },
    {
      "cell_type": "code",
      "metadata": {
        "id": "jrjvEZjN_1Ju",
        "colab": {
          "base_uri": "https://localhost:8080/",
          "height": 304
        },
        "outputId": "4bd6ff42-13d5-410f-fad8-49afba2cfe3e"
      },
      "source": [
        "x_train = []\n",
        "for Ws,Us in zip(train_Ws,train_Us):\n",
        "    x_train.append(f[\"image\"][train_mask(*Us,*Ws)][:,:,:8][:,:,:,np.newaxis])\n",
        "print([_.shape for _ in x_train])\n",
        "x_train = np.concatenate(x_train)\n",
        "fig, ax = plt.subplots()\n",
        "# ax.contour(x0,y0,np.round(chern_number.T),levels=2)\n",
        "for Ws,Us in zip(train_Ws,train_Us):\n",
        "    plt.fill_between(*[Ws],*Us,alpha=0.3)\n",
        "plt.ylim(U.min(),U.max())\n",
        "plt.xlim(W.min(),W.max())"
      ],
      "execution_count": null,
      "outputs": [
        {
          "output_type": "stream",
          "text": [
            "[(150, 32, 8, 1)]\n"
          ],
          "name": "stdout"
        },
        {
          "output_type": "execute_result",
          "data": {
            "text/plain": [
              "(0.0, 5.0)"
            ]
          },
          "metadata": {
            "tags": []
          },
          "execution_count": 43
        },
        {
          "output_type": "display_data",
          "data": {
            "image/png": "[encoded data removed]",
            "text/plain": [
              "<Figure size 432x288 with 1 Axes>"
            ]
          },
          "metadata": {
            "tags": [],
            "needs_background": "light"
          }
        }
      ]
    },
    {
      "cell_type": "code",
      "metadata": {
        "id": "r9umEEfNHKLs",
        "colab": {
          "base_uri": "https://localhost:8080/",
          "height": 830
        },
        "outputId": "568fea8b-771b-41ca-eabf-f3d6e013c024"
      },
      "source": [
        "cnns[training], outs[training], douts[training], res[training] = full_run(x_train, load_prev=True, batch_epochs=200, training = training, dis='quasiper_dis',pick_U=4)"
      ],
      "execution_count": null,
      "outputs": [
        {
          "output_type": "display_data",
          "data": {
            "image/png": "[encoded data removed]",
            "text/plain": [
              "<Figure size 432x288 with 1 Axes>"
            ]
          },
          "metadata": {
            "tags": [],
            "needs_background": "light"
          }
        },
        {
          "output_type": "display_data",
          "data": {
            "image/png": "[encoded data removed]",
            "text/plain": [
              "<Figure size 432x288 with 2 Axes>"
            ]
          },
          "metadata": {
            "tags": [],
            "needs_background": "light"
          }
        },
        {
          "output_type": "display_data",
          "data": {
            "image/png": "[encoded data removed]",
            "text/plain": [
              "<Figure size 432x288 with 1 Axes>"
            ]
          },
          "metadata": {
            "tags": [],
            "needs_background": "light"
          }
        }
      ]
    },
    {
      "cell_type": "code",
      "metadata": {
        "id": "98w7fW8YHKLt",
        "colab": {
          "base_uri": "https://localhost:8080/"
        },
        "outputId": "4d27e19e-7917-45bd-d0a1-94b034ad5829"
      },
      "source": [
        "if save == True:\n",
        "    cnns[training].save(f\"networks/anomaly_detection/Anomaly-Detection-network-{training}\")"
      ],
      "execution_count": null,
      "outputs": [
        {
          "output_type": "stream",
          "text": [
            "INFO:tensorflow:Assets written to: networks/anomaly_detection/Anomaly-Detection-network-2/assets\n"
          ],
          "name": "stdout"
        }
      ]
    },
    {
      "cell_type": "markdown",
      "metadata": {
        "id": "9kgZyFncHj4V"
      },
      "source": [
        "## Boundarty estimation"
      ]
    },
    {
      "cell_type": "code",
      "metadata": {
        "id": "R6qMOTkrHqSK"
      },
      "source": [
        "def get_pickle(x, xmin,xmax):\n",
        "    #x = np.asarray(x)\n",
        "    pickle = np.where((x>= xmin) & (x <= xmax))\n",
        "    return pickle, x[pickle]"
      ],
      "execution_count": 50,
      "outputs": []
    },
    {
      "cell_type": "code",
      "metadata": {
        "id": "8gjzkMBUHutI"
      },
      "source": [
        "# tanh for fitting with curve_fit from scipy.optimize import curve_fit\n",
        "def func(x, a, b, c, d):\n",
        "    return a * np.tanh(b * x - c) + d"
      ],
      "execution_count": 32,
      "outputs": []
    },
    {
      "cell_type": "code",
      "metadata": {
        "id": "SDbC4KLeWlbr"
      },
      "source": [
        "import numpy as np\n",
        "import matplotlib.pyplot as plt"
      ],
      "execution_count": 33,
      "outputs": []
    },
    {
      "cell_type": "code",
      "metadata": {
        "colab": {
          "base_uri": "https://localhost:8080/",
          "height": 283
        },
        "id": "DScJA3P9BrkD",
        "outputId": "32711bcb-9242-449a-e5c0-32d4b3eed94b"
      },
      "source": [
        "def tanh_func(x, a=0.15, b=1, c=2, d=0.2):\n",
        "    return a * np.tanh(b * x - c) + d\n",
        "x = np.arange(-8,8,0.1)\n",
        "plt.plot(x,tanh_func(x))"
      ],
      "execution_count": 34,
      "outputs": [
        {
          "output_type": "execute_result",
          "data": {
            "text/plain": [
              "[<matplotlib.lines.Line2D at 0x7fa90022a890>]"
            ]
          },
          "metadata": {
            "tags": []
          },
          "execution_count": 34
        },
        {
          "output_type": "display_data",
          "data": {
            "image/png": "[encoded data removed]",
            "text/plain": [
              "<Figure size 432x288 with 1 Axes>"
            ]
          },
          "metadata": {
            "tags": [],
            "needs_background": "light"
          }
        }
      ]
    },
    {
      "cell_type": "code",
      "metadata": {
        "id": "PA0S97c3Hxas"
      },
      "source": [
        "def get_xxyy(u0,u1,w,training, p0 = [0.1, 1, 2,0.3], debug=False):\n",
        "    pickle = np.intersect1d(np.where((U>= u0) & (U <= u1)),np.where(W == w ))\n",
        "    xx,yy = U[pickle],res[training][pickle]\n",
        "    sorter = np.argsort(xx)\n",
        "    xx,yy = xx[sorter],yy[sorter]\n",
        "    popt, pcov = curve_fit(func, xx, yy, p0 = p0,maxfev = 5000)\n",
        "    a, b, c, d = popt\n",
        "    da, db, dc, dd = np.sqrt(np.diag(pcov))\n",
        "    xc = c/b\n",
        "    dxc = np.abs(xc * (dc/np.abs(c) - db/np.abs(b)))\n",
        "    if debug:\n",
        "        print(f\"popt = {popt}, w {w:.4f}, db = {db:.4f}, dc = {dc:.4f}, xc = {xc:.4f}, dxc = {dxc:.4f}\")\n",
        "    return xx,yy,func(xx,*popt), xc, dxc\n"
      ],
      "execution_count": 35,
      "outputs": []
    },
    {
      "cell_type": "code",
      "metadata": {
        "id": "-cShJx2hE2C8"
      },
      "source": [
        "def get_xxyy1(w0,w1,u,training, p0 = [0.05, -0.8, -2,0.1], debug=False):\n",
        "    pickle = np.intersect1d(np.where((W>= w0) & (W <= w1)),np.where(U == u ))\n",
        "    xx,yy = W[pickle],res[training][pickle]\n",
        "    sorter = np.argsort(xx)\n",
        "    xx,yy = xx[sorter],yy[sorter]\n",
        "    popt, pcov = curve_fit(func, xx, yy, p0 = p0,maxfev = 5000)\n",
        "    a, b, c, d = popt\n",
        "    da, db, dc, dd = np.sqrt(np.diag(pcov))\n",
        "    xc = c/b\n",
        "    dxc = np.abs(xc * (dc/np.abs(c) - db/np.abs(b)))\n",
        "    if debug:\n",
        "        print(f\"popt = {popt}, u {u:.4f}, db = {db:.4f}, dc = {dc:.4f}, xc = {xc:.4f}, dxc = {dxc:.4f}\")\n",
        "    return xx,yy,func(xx,*popt), xc, dxc\n"
      ],
      "execution_count": 36,
      "outputs": []
    },
    {
      "cell_type": "code",
      "metadata": {
        "id": "7PV3DGu8Hzaf",
        "colab": {
          "base_uri": "https://localhost:8080/",
          "height": 300
        },
        "outputId": "e3b4b72d-e315-4c6c-9659-892714c15c31"
      },
      "source": [
        "# example (gonna do this in a for-loop)\n",
        "xx,yy,fxx, xc, dxc = get_xxyy(0.,1.47,1.9,p0 = [0.1, 1, 2,0.2],training=0, debug=True)\n",
        "plt.plot(xx,yy,\"x\")\n",
        "plt.plot(xx,fxx)\n",
        "plt.errorbar([xc]*2,[yy.min(),yy.max()],xerr=[dxc,dxc],fmt=\"--\")"
      ],
      "execution_count": 37,
      "outputs": [
        {
          "output_type": "stream",
          "text": [
            "popt = [0.15415067 3.87985635 2.55912878 0.1870857 ], w 1.9000, db = 0.2631, dc = 0.1812, xc = 0.6596, dxc = 0.0020\n"
          ],
          "name": "stdout"
        },
        {
          "output_type": "execute_result",
          "data": {
            "text/plain": [
              "<ErrorbarContainer object of 3 artists>"
            ]
          },
          "metadata": {
            "tags": []
          },
          "execution_count": 37
        },
        {
          "output_type": "display_data",
          "data": {
            "image/png": "[encoded data removed]",
            "text/plain": [
              "<Figure size 432x288 with 1 Axes>"
            ]
          },
          "metadata": {
            "tags": [],
            "needs_background": "light"
          }
        }
      ]
    },
    {
      "cell_type": "code",
      "metadata": {
        "colab": {
          "base_uri": "https://localhost:8080/",
          "height": 300
        },
        "id": "XQHCXj0CFcSf",
        "outputId": "18a5c736-9bb1-4b8c-fbc7-5f40048ad1d8"
      },
      "source": [
        "# example (gonna do this in a for-loop)\n",
        "xx,yy,fxx, xc, dxc = get_xxyy1(2.6,4.8,0,training=0, debug=True) \n",
        "# [3.89, 3.7, 3.6, 3.5, 3.4, 3.29, 3.14, 2.89, 2.68, 2.5]\n",
        "# [3.5141，3.4156,3.3210, 3.2101,3.1289，3.0576，2.9759,2.8906, 2.8098, 2.7621, 2.6842, 2.6209, 2.5398, 2.474]\n",
        "# [3.68402499 3.59496375 3.54939523 3.4979808  3.3876457  3.32609899\n",
        "#  3.23159924 3.18209469 3.10472076 3.0675008  3.03385981 2.97710396\n",
        "#  2.94082751 2.87511448 2.79067427 2.7141822  2.63675663 2.54961916\n",
        "#  2.46292325 2.38086631]\n",
        "plt.plot(xx,yy,\"x\")\n",
        "plt.plot(xx,fxx)\n",
        "plt.errorbar([xc]*2,[yy.min(),yy.max()],xerr=[dxc,dxc],fmt=\"--\")"
      ],
      "execution_count": 38,
      "outputs": [
        {
          "output_type": "stream",
          "text": [
            "popt = [  0.05760602  -3.47966071 -12.9245952    0.12460641], u 0.0000, db = 2.1594, dc = 8.0213, xc = 3.7143, dxc = 0.0001\n"
          ],
          "name": "stdout"
        },
        {
          "output_type": "execute_result",
          "data": {
            "text/plain": [
              "<ErrorbarContainer object of 3 artists>"
            ]
          },
          "metadata": {
            "tags": []
          },
          "execution_count": 38
        },
        {
          "output_type": "display_data",
          "data": {
            "image/png": "[encoded data removed]",
            "text/plain": [
              "<Figure size 432x288 with 1 Axes>"
            ]
          },
          "metadata": {
            "tags": [],
            "needs_background": "light"
          }
        }
      ]
    },
    {
      "cell_type": "code",
      "metadata": {
        "id": "fry36JnMErCG"
      },
      "source": [
        "vbes_dict = {'0.0':[2.5,5],'0.11':[2.5,5],'0.21':[2.4,5],'0.32':[2.2,5],'0.42':[2.,5],'0.53':[1.6,5],'0.63':[1.5,5],'0.74':[1.2,5],'0.84':[1,5],'0.95':[.8,5],\n",
        "                '1.05':[.8,5],'1.16':[0.8,5],'1.26':[0,5],'1.37':[0,5],'1.47':[0,5],'1.58':[0.,5],'1.68':[2,3.3],'1.79':[2,3.3],'1.89':[1.9,3.3],\n",
        "                '2.0':[1.8,3.3]}\n",
        "vbes_dict1 = {'0.0':[2.5,3.4],'0.11':[2.2,3.4],'0.21':[2.2,3.4]}\n",
        "def get_vboundary(U0,vbes_dict,training = 0, p0 = [0.05, -0.8, -2,0.1],plot=True, debug=False):\n",
        "    # get boundary data for U0, vertical boundary \n",
        "    xcs0 = np.zeros(len(U0))\n",
        "    dxcs0 = np.zeros(len(U0))\n",
        "    nrows=len(pickle[0])//3 + 1\n",
        "    if plot:\n",
        "        fig, axs = plt.subplots(nrows=nrows, ncols=3,figsize=(15,4*nrows))\n",
        "    for row,u_ in enumerate(U0):\n",
        "        xx,yy,fxx, xc, dxc = get_xxyy1(vbes_dict[str(u_)][0],vbes_dict[str(u_)][1],u_,training,p0,debug)\n",
        "        xcs0[row], dxcs0[row] = xc, dxc\n",
        "        if plot:\n",
        "            ax = axs[row//3,row%3]\n",
        "            ax.plot(xx,yy,\"x\")\n",
        "            ax.plot(xx,fxx)\n",
        "            ax.plot([xc]*2,[yy.min(),yy.max()],\"--\")\n",
        "            ax.set_title(f\"w = {w_}\")\n",
        "    return xcs0, dxcs0\n"
      ],
      "execution_count": 39,
      "outputs": []
    },
    {
      "cell_type": "code",
      "metadata": {
        "id": "BWXM7DM1H2bu"
      },
      "source": [
        "hbes_dict = {'0.0':[0,1.47],'0.17':[0,1.47],'0.34':[0,1.47],'0.52':[0,1.47],'0.69':[0,1.47],'0.86':[0,1.47],'1.03':[0,1.47],'1.21':[0,1.47],'1.38':[0,1.47],'1.55':[0,1.47],'1.72':[0,1.47],'1.9':[0,1.47],\n",
        "                '2.07':[0,1.47],'2.24':[0,1.47],'2.41':[0,1.47],'2.59':[0,1.]}\n",
        "def get_hboundary(W0,hbes_dict,training = 0, p0 = [0.1, 1, 2,0.2],plot=True, debug=False):\n",
        "    # get boundary data for W0, horizontal boundary\n",
        "    xcs0 = np.zeros(len(W0))\n",
        "    dxcs0 = np.zeros(len(W0))\n",
        "    nrows=len(pickle[0])//3 + 1\n",
        "    if plot:\n",
        "        fig, axs = plt.subplots(nrows=nrows, ncols=3,figsize=(15,4*nrows))\n",
        "    for row,w_ in enumerate(W0):\n",
        "        xx,yy,fxx, xc, dxc = get_xxyy(hbes_dict[str(w_)][0],hbes_dict[str(w_)][1],w_,training,p0,debug)\n",
        "        xcs0[row], dxcs0[row] = xc, dxc\n",
        "        if plot:\n",
        "            ax = axs[row//3,row%3]\n",
        "            ax.plot(xx,yy,\"x\")\n",
        "            ax.plot(xx,fxx)\n",
        "            ax.plot([xc]*2,[yy.min(),yy.max()],\"--\")\n",
        "            ax.set_title(f\"w = {w_}\")\n",
        "    return xcs0, dxcs0\n"
      ],
      "execution_count": 40,
      "outputs": []
    },
    {
      "cell_type": "code",
      "metadata": {
        "colab": {
          "base_uri": "https://localhost:8080/"
        },
        "id": "taFToHT1RZJp",
        "outputId": "0faa895d-3417-4bf7-e415-d7a418042b5e"
      },
      "source": [
        "print(uU,uW)"
      ],
      "execution_count": 41,
      "outputs": [
        {
          "output_type": "stream",
          "text": [
            "[0.   0.11 0.21 0.32 0.42 0.53 0.63 0.74 0.84 0.95 1.05 1.16 1.26 1.37\n",
            " 1.47 1.58 1.68 1.79 1.89 2.  ] [0.   0.17 0.34 0.52 0.69 0.86 1.03 1.21 1.38 1.55 1.72 1.9  2.07 2.24\n",
            " 2.41 2.59 2.76 2.93 3.1  3.28 3.45 3.62 3.79 3.97 4.14 4.31 4.48 4.66\n",
            " 4.83 5.  ]\n"
          ],
          "name": "stdout"
        }
      ]
    },
    {
      "cell_type": "markdown",
      "metadata": {
        "id": "ip9WARk5H7RX"
      },
      "source": [
        "## Iteration 1"
      ]
    },
    {
      "cell_type": "code",
      "metadata": {
        "colab": {
          "base_uri": "https://localhost:8080/",
          "height": 408
        },
        "id": "4lBnhmIm4I9x",
        "outputId": "778110ec-2f41-4fcf-c112-ab7d8ef4de17"
      },
      "source": [
        "training = 0\n",
        "pickle, w0 = get_pickle(uW,0,2.7)\n",
        "xcs0, dxcs0 = get_hboundary(w0,hbes_dict,training = training,plot=False)\n",
        "pickle, u01 = get_pickle(uU,0,2)\n",
        "xcs01, dxcs01 = get_vboundary(u01,vbes_dict, training = training,plot=False,debug=False)\n",
        "pickle, u02 = get_pickle(uU,0,0.26)\n",
        "xcs02, dxcs02 = get_vboundary(u02,vbes_dict1, training = training,plot=False,debug=False)\n",
        "# cleanup points where fit failed\n",
        "mask = np.where(np.logical_or(xcs01 < 2., xcs01 >4.5))[0]\n",
        "xcs01 = np.delete(xcs01,mask)\n",
        "dxcs01 = np.delete(dxcs01,mask)\n",
        "u01 = np.delete(u01,mask)\n",
        "\n",
        "# cleanup points where fit failed\n",
        "mask = np.where(np.logical_or(xcs0 < 0, xcs0 >3.5))[0]\n",
        "xcs0 = np.delete(xcs0,mask)\n",
        "dxcs0 = np.delete(dxcs0,mask)\n",
        "w0 = np.delete(w0,mask)\n",
        "\n",
        "\n",
        "# cleanup points where fit failed\n",
        "mask = np.where(np.logical_or(xcs02 < 0, xcs02 >3.5))[0]\n",
        "xcs02 = np.delete(xcs02,mask)\n",
        "dxcs02 = np.delete(dxcs02,mask)\n",
        "u02 = np.delete(u02,mask)\n",
        "print(u02,xcs02)\n",
        "w0 = np.concatenate((w0,xcs02[::-1]))\n",
        "xcs0 = np.concatenate((xcs0,u02[::-1]))\n",
        "dxcs0 = np.concatenate((dxcs0,dxcs02[::-1]))\n",
        "\n",
        "\n",
        "fig, ax = plt.subplots()\n",
        "# plot result\n",
        "im = ax.pcolormesh(X,Y,100*outs[training].T,cmap=parula_map)\n",
        "cbar = fig.colorbar(im,ax=ax)\n",
        "cbar.set_ticks([5,20,35])\n",
        "# theory curve\n",
        "# ax.contour(x0,y0,np.round(chern_number.T),levels=2)\n",
        "ax.set_xlim(uW.min(),uW.max())\n",
        "ax.set_ylim(uU.min(),uU.max())\n",
        "plt.yticks([0,1,2])\n",
        "plt.xticks([0,1,2,3,4,5])\n",
        "for ws,us in zip(train_Wss[training],train_Uss[training]):\n",
        "    # Create a Rectangle patch\n",
        "    rect = patches.Rectangle((ws[0], us[0]), ws[1]-ws[0], us[1]-us[0], linewidth=2, edgecolor='aqua', facecolor='none')\n",
        "    # Add the patch to the Axes\n",
        "    ax.add_patch(rect)\n",
        "ax.plot([0,5],[0,0],\"--\",c='salmon',linewidth=5)\n",
        "ax.plot([0,0],[0,2],\"--\",c='orange',linewidth=5)\n",
        "plt.errorbar(w0, xcs0, xerr=dxcs0,marker='^',mfc='none',ms=10,color=\"k\")\n",
        "plt.errorbar(xcs01, u01,  xerr=dxcs01,marker='^',mfc='none',ms=10,color=\"k\",clip_on=False)\n",
        "\n",
        "####################################\n",
        "\n",
        "wct2=np.array([3.89, 3.7, 3.6, 3.5, 3.4, 3.29, 3.14, 2.89, 2.68, 2.5]);\n",
        "uct2=np.array([0, 0.25, 0.5, 0.75, 1, 1.2, 1.4, 1.6, 1.8, 2.0]);\n",
        "wct2l=np.array([0.07, 0.2, 0.2, 0.3, 0.3, 0.29, 0.28, 0.2, 0.16, 0.14]);\n",
        "wct2r=np.array([0.11, 0.8, 1.0, 1.1, 1.1, 0.62, 0.38, 0.32, 0.26, 0.21]);\n",
        "wcerr=np.vstack([wct2l[None,:],wct2r[None,:]])\n",
        "plt.errorbar(wct2,uct2,xerr=wcerr,marker='o',ms=6,mfc='none',color='r',capsize=4,mew=1.5,clip_on=False)\n",
        "###################################\n",
        "\n",
        "# ax.set_clip_on(True)\n",
        "ax.tick_params(bottom=True, top=True, left=True, right=True,direction=\"in\")\n",
        "# plt.ylabel(\"U/t\",fontsize=20)\n",
        "# plt.xlabel(\"W/t\",fontsize=20)\n",
        "plt.tight_layout(pad=0)\n",
        "# plt.savefig(\"boundaries_solo.png\",dpi=300,transparent=True)\n",
        "plt.show()"
      ],
      "execution_count": 522,
      "outputs": [
        {
          "output_type": "stream",
          "text": [
            "/usr/local/lib/python3.7/dist-packages/scipy/optimize/minpack.py:808: OptimizeWarning: Covariance of the parameters could not be estimated\n",
            "  category=OptimizeWarning)\n",
            "/usr/local/lib/python3.7/dist-packages/ipykernel_launcher.py:10: RuntimeWarning: invalid value encountered in double_scalars\n",
            "  # Remove the CWD from sys.path while we load stuff.\n"
          ],
          "name": "stderr"
        },
        {
          "output_type": "stream",
          "text": [
            "[0.   0.11 0.21] [2.80647903 2.67118545 2.54661341]\n"
          ],
          "name": "stdout"
        },
        {
          "output_type": "display_data",
          "data": {
            "image/png": "[encoded data removed]",
            "text/plain": [
              "<Figure size 432x288 with 2 Axes>"
            ]
          },
          "metadata": {
            "tags": [],
            "needs_background": "light"
          }
        }
      ]
    },
    {
      "cell_type": "code",
      "metadata": {
        "id": "y8CTAZ3AIBH8"
      },
      "source": [
        "training = 0"
      ],
      "execution_count": 42,
      "outputs": []
    },
    {
      "cell_type": "code",
      "metadata": {
        "id": "cbIyP0J0IDhF",
        "colab": {
          "base_uri": "https://localhost:8080/"
        },
        "outputId": "268b5b63-d079-4dc3-b65b-e35a9405fede"
      },
      "source": [
        "pickle, w0 = get_pickle(uW,0,2.7)\n",
        "xcs0, dxcs0 = get_hboundary(w0,hbes_dict,training = training,plot=False)"
      ],
      "execution_count": 43,
      "outputs": [
        {
          "output_type": "stream",
          "text": [
            "/usr/local/lib/python3.7/dist-packages/scipy/optimize/minpack.py:808: OptimizeWarning: Covariance of the parameters could not be estimated\n",
            "  category=OptimizeWarning)\n",
            "/usr/local/lib/python3.7/dist-packages/ipykernel_launcher.py:10: RuntimeWarning: invalid value encountered in double_scalars\n",
            "  # Remove the CWD from sys.path while we load stuff.\n"
          ],
          "name": "stderr"
        }
      ]
    },
    {
      "cell_type": "code",
      "metadata": {
        "id": "z0V7wHG2IF1k"
      },
      "source": [
        "pickle, u01 = get_pickle(uU,0,2)\n",
        "xcs01, dxcs01 = get_vboundary(u01,vbes_dict, training = training,plot=False,debug=False)"
      ],
      "execution_count": 44,
      "outputs": []
    },
    {
      "cell_type": "code",
      "metadata": {
        "id": "kBfgvSR6z-ZP"
      },
      "source": [
        "pickle, u02 = get_pickle(uU,0,0.26)\n",
        "xcs02, dxcs02 = get_vboundary(u02,vbes_dict1, training = training,plot=False,debug=False)"
      ],
      "execution_count": 45,
      "outputs": []
    },
    {
      "cell_type": "code",
      "metadata": {
        "id": "Ileive1cIIGk"
      },
      "source": [
        "# cleanup points where fit failed\n",
        "mask = np.where(np.logical_or(xcs01 < 2., xcs01 >4.5))[0]\n",
        "xcs01 = np.delete(xcs01,mask)\n",
        "dxcs01 = np.delete(dxcs01,mask)\n",
        "u01 = np.delete(u01,mask)\n",
        "\n",
        "# cleanup points where fit failed\n",
        "mask = np.where(np.logical_or(xcs0 < 0, xcs0 >3.5))[0]\n",
        "xcs0 = np.delete(xcs0,mask)\n",
        "dxcs0 = np.delete(dxcs0,mask)\n",
        "w0 = np.delete(w0,mask)\n",
        "\n",
        "\n",
        "# cleanup points where fit failed\n",
        "mask = np.where(np.logical_or(xcs02 < 0, xcs02 >3.5))[0]\n",
        "xcs02 = np.delete(xcs02,mask)\n",
        "dxcs02 = np.delete(dxcs02,mask)\n",
        "u02 = np.delete(u02,mask)"
      ],
      "execution_count": 46,
      "outputs": []
    },
    {
      "cell_type": "code",
      "metadata": {
        "colab": {
          "base_uri": "https://localhost:8080/"
        },
        "id": "sWFTnMDA2yog",
        "outputId": "145c822a-3c34-4942-d813-70a2b1d913ea"
      },
      "source": [
        "print(u02,xcs02)\n",
        "w0 = np.concatenate((w0,xcs02[::-1]))\n",
        "xcs0 = np.concatenate((xcs0,u02[::-1]))\n",
        "dxcs0 = np.concatenate((dxcs0,dxcs02[::-1]))"
      ],
      "execution_count": 47,
      "outputs": [
        {
          "output_type": "stream",
          "text": [
            "[0.   0.11 0.21] [2.80647903 2.67118545 2.54661341]\n"
          ],
          "name": "stdout"
        }
      ]
    },
    {
      "cell_type": "code",
      "metadata": {
        "id": "mJaAPoN4Ipx2"
      },
      "source": [
        "import matplotlib.pyplot as plt\n",
        "plt.rcParams.update({'font.size': 20})"
      ],
      "execution_count": 51,
      "outputs": []
    },
    {
      "cell_type": "code",
      "metadata": {
        "id": "rqaa_Yp1IJ3l",
        "colab": {
          "base_uri": "https://localhost:8080/",
          "height": 319
        },
        "outputId": "9dea84f0-e7e2-4292-9c29-0d353535e612"
      },
      "source": [
        "\n",
        "fig, ax = plt.subplots()\n",
        "# plot result\n",
        "im = ax.pcolormesh(X,Y,100*outs[training].T,cmap=parula_map)\n",
        "cbar = fig.colorbar(im,ax=ax)\n",
        "cbar.set_ticks([5,20,35])\n",
        "# theory curve\n",
        "# ax.contour(x0,y0,np.round(chern_number.T),levels=2)\n",
        "ax.set_xlim(uW.min(),uW.max())\n",
        "ax.set_ylim(uU.min(),uU.max())\n",
        "plt.yticks([0,1,2])\n",
        "plt.xticks([0,1,2,3,4,5])\n",
        "for ws,us in zip(train_Wss[training],train_Uss[training]):\n",
        "    # Create a Rectangle patch\n",
        "    rect = patches.Rectangle((ws[0], us[0]), ws[1]-ws[0], us[1]-us[0], linewidth=2, edgecolor='aqua', facecolor='none')\n",
        "    # Add the patch to the Axes\n",
        "    ax.add_patch(rect)\n",
        "ax.plot([0,5],[0,0],\"--\",c='salmon',linewidth=5)\n",
        "ax.plot([0,0],[0,2],\"--\",c='orange',linewidth=5)\n",
        "plt.errorbar(w0, xcs0, xerr=dxcs0,marker='^',mfc='none',ms=10,color=\"k\")\n",
        "plt.errorbar(xcs01, u01,  xerr=dxcs01,marker='^',mfc='none',ms=10,color=\"k\",clip_on=False)\n",
        "\n",
        "####################################\n",
        "\n",
        "wct2=np.array([3.89, 3.7, 3.6, 3.5, 3.4, 3.29, 3.14, 2.89, 2.68, 2.5]);\n",
        "uct2=np.array([0, 0.25, 0.5, 0.75, 1, 1.2, 1.4, 1.6, 1.8, 2.0]);\n",
        "wct2l=np.array([0.07, 0.2, 0.2, 0.3, 0.3, 0.29, 0.28, 0.2, 0.16, 0.14]);\n",
        "wct2r=np.array([0.11, 0.8, 1.0, 1.1, 1.1, 0.62, 0.38, 0.32, 0.26, 0.21]);\n",
        "wcerr=np.vstack([wct2l[None,:],wct2r[None,:]])\n",
        "plt.errorbar(wct2,uct2,xerr=wcerr,marker='o',ms=6,mfc='none',color='r',capsize=4,mew=1.5,clip_on=False)\n",
        "###################################\n",
        "\n",
        "# ax.set_clip_on(True)\n",
        "ax.tick_params(bottom=True, top=True, left=True, right=True,direction=\"in\")\n",
        "# plt.ylabel(\"U/t\",fontsize=20)\n",
        "# plt.xlabel(\"W/t\",fontsize=20)\n",
        "plt.tight_layout(pad=0)\n",
        "plt.savefig(\"/content/boundaries_solo.png\",dpi=300,transparent=True)\n",
        "plt.show()"
      ],
      "execution_count": 52,
      "outputs": [
        {
          "output_type": "display_data",
          "data": {
            "image/png": "[encoded data removed]",
            "text/plain": [
              "<Figure size 432x288 with 2 Axes>"
            ]
          },
          "metadata": {
            "tags": [],
            "needs_background": "light"
          }
        }
      ]
    },
    {
      "cell_type": "code",
      "metadata": {
        "colab": {
          "base_uri": "https://localhost:8080/"
        },
        "id": "Vc40U1tGv4XM",
        "outputId": "a151e78f-116b-4f7a-d707-a12fb0820a92"
      },
      "source": [
        "print(xcs01)"
      ],
      "execution_count": 537,
      "outputs": [
        {
          "output_type": "stream",
          "text": [
            "[3.85043668 3.71758625 3.66002604 3.59125169 3.52281317 3.49518747\n",
            " 3.4199683  3.38558207 3.32103259 3.26284158 3.17326785 3.09146743\n",
            " 3.05941586 2.954083   2.84810451 2.74723623 2.68420314 2.62090656\n",
            " 2.53976552 2.47415794]\n"
          ],
          "name": "stdout"
        }
      ]
    },
    {
      "cell_type": "code",
      "metadata": {
        "colab": {
          "base_uri": "https://localhost:8080/"
        },
        "id": "2MnhMXDF1QCC",
        "outputId": "931877db-07a4-44f5-d4f3-22a7862e5b00"
      },
      "source": [
        "print(Y[6,:])"
      ],
      "execution_count": null,
      "outputs": [
        {
          "output_type": "stream",
          "text": [
            "[0.63 0.63 0.63 0.63 0.63 0.63 0.63 0.63 0.63 0.63 0.63 0.63 0.63 0.63\n",
            " 0.63 0.63 0.63 0.63 0.63 0.63 0.63 0.63 0.63 0.63 0.63 0.63 0.63 0.63\n",
            " 0.63 0.63]\n"
          ],
          "name": "stdout"
        }
      ]
    },
    {
      "cell_type": "code",
      "metadata": {
        "id": "BcdtFQ7k3aN7"
      },
      "source": [
        "np.load"
      ],
      "execution_count": null,
      "outputs": []
    },
    {
      "cell_type": "code",
      "metadata": {
        "colab": {
          "base_uri": "https://localhost:8080/",
          "height": 296
        },
        "id": "DQQkzEkHAyy2",
        "outputId": "a9c88faa-8983-44a4-cc07-ab13809d2d8f"
      },
      "source": [
        "fig, ax = plt.subplots()\n",
        "plt.errorbar(X[0,:],100*outs[training].T[0,:],c='salmon',marker='o',markersize=10,mfc='salmon',mec='k',mew=1.5)\n",
        "plt.axvline(x=2.80647903,ls='--',c='gray',lw=4)\n",
        "plt.axvline(x=2.81,ls='dotted',c='k',lw=4)\n",
        "plt.axvline(x=3.85043668 ,ls='--',c='gray',lw=4)\n",
        "plt.axvline(x=3.89 ,ls='dotted',c='k',lw=4)\n",
        "# plt.tight_layout(pad=0)\n",
        "ax.set_xlim(-0.05,5.05)\n",
        "ax.set_ylim(0,24)\n",
        "plt.yticks([0,12,24])\n",
        "plt.xticks([0,1,2,3,4,5])\n",
        "plt.savefig(\"/content/boundaries_inset2.png\",dpi=300,transparent=True)\n"
      ],
      "execution_count": 543,
      "outputs": [
        {
          "output_type": "display_data",
          "data": {
            "image/png": "[encoded data removed]",
            "text/plain": [
              "<Figure size 432x288 with 1 Axes>"
            ]
          },
          "metadata": {
            "tags": [],
            "needs_background": "light"
          }
        }
      ]
    },
    {
      "cell_type": "code",
      "metadata": {
        "colab": {
          "base_uri": "https://localhost:8080/",
          "height": 319
        },
        "id": "g07Kzkg4CjVS",
        "outputId": "12a40bd1-8445-49e4-d88a-510ad8c0a4e6"
      },
      "source": [
        "fig, ax = plt.subplots()\n",
        "plt.errorbar(Y[:,0],100*outs[training].T[:,0],c='orange',marker='o',markersize=10,mfc='orange',mec='k',mew=1.5)\n",
        "plt.axvline(x=1.14,ls='dotted',c='k',lw=4)\n",
        "plt.axvline(x=1.1691,ls='--',c='gray',lw=4)\n",
        "ax.set_xlim(-0.05,2.05)\n",
        "ax.set_ylim(0,40)\n",
        "plt.yticks([0,20,40])\n",
        "plt.xticks([0,1,2])\n",
        "plt.tight_layout(pad=0)\n",
        "plt.savefig(\"boundaries_inset1.png\",dpi=300,transparent=True)"
      ],
      "execution_count": null,
      "outputs": [
        {
          "output_type": "display_data",
          "data": {
            "image/png": "[encoded data removed]",
            "text/plain": [
              "<Figure size 432x288 with 1 Axes>"
            ]
          },
          "metadata": {
            "tags": [],
            "needs_background": "light"
          }
        }
      ]
    },
    {
      "cell_type": "code",
      "metadata": {
        "id": "8T0EhYfn3m7E"
      },
      "source": [
        "np.savez(f'{training}_boundary_estimation.npz',a=[w0,xcs0,dxcs0], b=[xcs01,u01,dxcs01])"
      ],
      "execution_count": 544,
      "outputs": []
    },
    {
      "cell_type": "code",
      "metadata": {
        "id": "-3Jwev2veh7n"
      },
      "source": [
        ""
      ],
      "execution_count": null,
      "outputs": []
    },
    {
      "cell_type": "code",
      "metadata": {
        "colab": {
          "base_uri": "https://localhost:8080/",
          "height": 254
        },
        "id": "oG-NvW_t48i2",
        "outputId": "0573defe-a252-4095-eb20-51b67106736c"
      },
      "source": [
        "fig, ax = plt.subplots()\n",
        "# arch = np.load(f'0_boundary_estimation.npz')\n",
        "# w0, xcs0, dxcs0 = arch['a']\n",
        "# xcs01,u01,dxcs01 = arch['b']\n",
        "plt.errorbar(w0, xcs0, yerr=dxcs0,fmt=\".--\",color=\"red\")\n",
        "plt.errorbar(xcs01, u01,  yerr=dxcs01,fmt=\".--\",color=\"k\")\n",
        "plt.scatter(x=0.,y=1.14,c='g',s=150,marker='>',ec='k')\n",
        "plt.scatter(x=2.81,y=0,c='cyan',s=150,marker='^',ec='k')\n",
        "plt.scatter(x=3.89,y=0,c='olive',s=150,marker='^',ec='k')\n",
        "ax.set_xlim(0,5)\n",
        "ax.set_ylim(0,2)\n",
        "plt.yticks([0,1.14,2])\n",
        "plt.xticks([0,2.81,3.89,5])\n",
        "ax = plt.gca()\n",
        "ax.set_yticklabels(['0','1.14','2'],fontsize=16)\n",
        "ax.set_xticklabels(['0','2.81','3.89','6'],fontsize=16)\n",
        "###############################################\n",
        "res1 = np.polyfit(u01,xcs01,4)\n",
        "p1 = np.poly1d(res1)\n",
        "plt.plot(p1(np.linspace(0,2,30)),np.linspace(0,2,30),color=\"r\")\n",
        "plt.ylabel(\"U/t\",fontsize=20)\n",
        "plt.xlabel(\"W/t\",fontsize=20)\n",
        "plt.grid()\n",
        "plt.tight_layout()"
      ],
      "execution_count": 550,
      "outputs": [
        {
          "output_type": "display_data",
          "data": {
            "image/png": "[encoded data removed]",
            "text/plain": [
              "<Figure size 432x288 with 1 Axes>"
            ]
          },
          "metadata": {
            "tags": [],
            "needs_background": "light"
          }
        }
      ]
    },
    {
      "cell_type": "code",
      "metadata": {
        "colab": {
          "base_uri": "https://localhost:8080/"
        },
        "id": "fisSawr8e0Bv",
        "outputId": "49b404c3-33a5-4724-d1ad-770608bd03e5"
      },
      "source": [
        "print(w0,xcs0)\n",
        "print(xcs01,u01)"
      ],
      "execution_count": 18,
      "outputs": [
        {
          "output_type": "stream",
          "text": [
            "[0.         0.17       0.34       0.51999998 0.69       0.86000001\n",
            " 1.02999997 1.21000004 1.38       1.54999995 1.72000003 1.89999998\n",
            " 2.06999993 2.24000001 2.41000009 2.54661341 2.67118545 2.80647903] [1.16909331 1.16547885 1.15439686 1.1357158  1.10446844 1.05999392\n",
            " 1.01780746 0.96028691 0.9023197  0.82980272 0.74788144 0.65959369\n",
            " 0.55979819 0.45390464 0.34050618 0.20999999 0.11       0.        ]\n",
            "[3.68402499 3.59496375 3.54939523 3.4979808  3.3876457  3.32609899\n",
            " 3.23159924 3.18209469 3.10472076 3.0675008  3.03385981 2.97710396\n",
            " 2.94082751 2.87511448 2.79067427 2.7141822  2.63675663 2.54961916\n",
            " 2.46292325 2.38086631] [0.         0.11       0.20999999 0.31999999 0.41999999 0.52999997\n",
            " 0.63       0.74000001 0.83999997 0.94999999 1.04999995 1.15999997\n",
            " 1.25999999 1.37       1.47000003 1.58000004 1.67999995 1.78999996\n",
            " 1.88999999 2.        ]\n"
          ],
          "name": "stdout"
        }
      ]
    },
    {
      "cell_type": "code",
      "metadata": {
        "id": "mIEadEZ9gpG4",
        "colab": {
          "base_uri": "https://localhost:8080/",
          "height": 304
        },
        "outputId": "ab0c5972-e965-4673-920a-7c1e4b262c8b"
      },
      "source": [
        "res1 = np.polyfit(u01,xcs01,4)\n",
        "p1 = np.poly1d(res1)\n",
        "plt.plot(p1(np.linspace(0,2,30)),np.linspace(0,2,30),color=\"r\")"
      ],
      "execution_count": 551,
      "outputs": [
        {
          "output_type": "execute_result",
          "data": {
            "text/plain": [
              "[<matplotlib.lines.Line2D at 0x7ff649d9a250>]"
            ]
          },
          "metadata": {
            "tags": []
          },
          "execution_count": 551
        },
        {
          "output_type": "display_data",
          "data": {
            "image/png": "[encoded data removed]",
            "text/plain": [
              "<Figure size 432x288 with 1 Axes>"
            ]
          },
          "metadata": {
            "tags": [],
            "needs_background": "light"
          }
        }
      ]
    },
    {
      "cell_type": "code",
      "metadata": {
        "colab": {
          "base_uri": "https://localhost:8080/"
        },
        "id": "x_UW1TwgyGIS",
        "outputId": "1f530c49-2ffb-46b0-c36e-7df3714f394d"
      },
      "source": [
        "print(p1([0.25,0.5,0.75]))"
      ],
      "execution_count": 552,
      "outputs": [
        {
          "output_type": "stream",
          "text": [
            "[3.63100736 3.49320438 3.36902176]\n"
          ],
          "name": "stdout"
        }
      ]
    },
    {
      "cell_type": "markdown",
      "metadata": {
        "id": "VWG3-4hh9v1-"
      },
      "source": [
        "## Iteration 2"
      ]
    },
    {
      "cell_type": "code",
      "metadata": {
        "id": "VDOy5Mz_9fJQ"
      },
      "source": [
        "training = 1"
      ],
      "execution_count": null,
      "outputs": []
    },
    {
      "cell_type": "code",
      "metadata": {
        "id": "01sHuM7E9fJf"
      },
      "source": [
        "pickle, w1 = get_pickle(uW,0,3)\n",
        "xcs1, dxcs1 = get_hboundary(w1,training = training,plot=False)"
      ],
      "execution_count": null,
      "outputs": []
    },
    {
      "cell_type": "code",
      "metadata": {
        "id": "LyxZ6Idk9fJf"
      },
      "source": [
        "pickle, u11 = get_pickle(uU,0,2)\n",
        "xcs11, dxcs11 = get_vboundary(u11, training = training,plot=False,debug=False)"
      ],
      "execution_count": null,
      "outputs": []
    },
    {
      "cell_type": "code",
      "metadata": {
        "id": "ISi7na9s9fJg"
      },
      "source": [
        "# cleanup points where fit failed\n",
        "mask = np.where(np.logical_or(xcs11 < 2., xcs11 >4.5))[0]\n",
        "xcs11 = np.delete(xcs11,mask)\n",
        "dxcs11 = np.delete(dxcs11,mask)\n",
        "u11 = np.delete(u11,mask)\n",
        "\n",
        "# cleanup points where fit failed\n",
        "mask = np.where(np.logical_or(xcs1 < 0, xcs1 >3.5))[0]\n",
        "xcs1 = np.delete(xcs1,mask)\n",
        "dxcs1 = np.delete(dxcs1,mask)\n",
        "w1 = np.delete(w1,mask)"
      ],
      "execution_count": null,
      "outputs": []
    },
    {
      "cell_type": "code",
      "metadata": {
        "colab": {
          "base_uri": "https://localhost:8080/",
          "height": 269
        },
        "id": "BWDgsQts9fJg",
        "outputId": "89fea671-e87a-4ff0-f501-b8c0e94d3388"
      },
      "source": [
        "fig, ax = plt.subplots()\n",
        "# plot result\n",
        "im = ax.pcolormesh(X,Y,outs[training].T,cmap=\"jet\")\n",
        "fig.colorbar(im,ax=ax)\n",
        "# theory curve\n",
        "# ax.contour(x0,y0,np.round(chern_number.T),levels=2)\n",
        "ax.set_xlim(uW.min(),uW.max())\n",
        "ax.set_ylim(uU.min(),uU.max())\n",
        "for ws,us in zip(train_Wss[training],train_Uss[training]):\n",
        "    # Create a Rectangle patch\n",
        "    rect = patches.Rectangle((ws[0], us[0]), ws[1]-ws[0], us[1]-us[0], linewidth=2, edgecolor='aqua', facecolor='none')\n",
        "    # Add the patch to the Axes\n",
        "    ax.add_patch(rect)\n",
        "plt.errorbar(w1, xcs1, yerr=dxcs1,fmt=\".--\",color=\"red\")\n",
        "plt.errorbar(xcs11, u11,  yerr=dxcs11,fmt=\".--\",color=\"k\")\n",
        "plt.show()"
      ],
      "execution_count": null,
      "outputs": [
        {
          "output_type": "display_data",
          "data": {
            "image/png": "[encoded data removed]",
            "text/plain": [
              "<Figure size 432x288 with 2 Axes>"
            ]
          },
          "metadata": {
            "tags": [],
            "needs_background": "light"
          }
        }
      ]
    },
    {
      "cell_type": "markdown",
      "metadata": {
        "id": "NCw-up1_ILlh"
      },
      "source": [
        "## Iteration 3"
      ]
    },
    {
      "cell_type": "code",
      "metadata": {
        "id": "aBO_zoDr68mb"
      },
      "source": [
        "training = 2"
      ],
      "execution_count": null,
      "outputs": []
    },
    {
      "cell_type": "code",
      "metadata": {
        "id": "xz7Q0GfI68m5"
      },
      "source": [
        "pickle, w2 = get_pickle(uW,0,3)\n",
        "xcs2, dxcs2 = get_hboundary(w2,training = training,plot=False)"
      ],
      "execution_count": null,
      "outputs": []
    },
    {
      "cell_type": "code",
      "metadata": {
        "colab": {
          "base_uri": "https://localhost:8080/"
        },
        "id": "5wg6itqe68m5",
        "outputId": "8c571d8f-1e5f-4285-bc16-f0d8665a2a7c"
      },
      "source": [
        "pickle, u21 = get_pickle(uU,0,2)\n",
        "xcs21, dxcs21 = get_vboundary(u21, training = training,plot=False,debug=False)"
      ],
      "execution_count": null,
      "outputs": [
        {
          "output_type": "stream",
          "text": [
            "/usr/local/lib/python3.7/dist-packages/scipy/optimize/minpack.py:808: OptimizeWarning: Covariance of the parameters could not be estimated\n",
            "  category=OptimizeWarning)\n",
            "/usr/local/lib/python3.7/dist-packages/ipykernel_launcher.py:10: RuntimeWarning: invalid value encountered in double_scalars\n",
            "  # Remove the CWD from sys.path while we load stuff.\n"
          ],
          "name": "stderr"
        }
      ]
    },
    {
      "cell_type": "code",
      "metadata": {
        "id": "3EhqIxIH68m6"
      },
      "source": [
        "# cleanup points where fit failed\n",
        "mask = np.where(np.logical_or(xcs21 < 2., xcs21 >4.5))[0]\n",
        "xcs21 = np.delete(xcs21,mask)\n",
        "dxcs21 = np.delete(dxcs21,mask)\n",
        "u21 = np.delete(u21,mask)\n",
        "\n",
        "# cleanup points where fit failed\n",
        "mask = np.where(np.logical_or(xcs2 < 0, xcs2 >3.5))[0]\n",
        "xcs2 = np.delete(xcs2,mask)\n",
        "dxcs2 = np.delete(dxcs2,mask)\n",
        "w2 = np.delete(w2,mask)"
      ],
      "execution_count": null,
      "outputs": []
    },
    {
      "cell_type": "code",
      "metadata": {
        "colab": {
          "base_uri": "https://localhost:8080/",
          "height": 269
        },
        "id": "fIXz3Jgz68m6",
        "outputId": "e8b497b9-7bac-4b46-89b9-d263d2829ce1"
      },
      "source": [
        "fig, ax = plt.subplots()\n",
        "# plot result\n",
        "im = ax.pcolormesh(X,Y,outs[training].T,cmap=\"jet\")\n",
        "fig.colorbar(im,ax=ax)\n",
        "# theory curve\n",
        "# ax.contour(x0,y0,np.round(chern_number.T),levels=2)\n",
        "ax.set_xlim(uW.min(),uW.max())\n",
        "ax.set_ylim(uU.min(),uU.max())\n",
        "for ws,us in zip(train_Wss[training],train_Uss[training]):\n",
        "    # Create a Rectangle patch\n",
        "    rect = patches.Rectangle((ws[0], us[0]), ws[1]-ws[0], us[1]-us[0], linewidth=2, edgecolor='aqua', facecolor='none')\n",
        "    # Add the patch to the Axes\n",
        "    ax.add_patch(rect)\n",
        "    # plt.fill_between(*[ws],*us,alpha=0.5,color=\"k\")\n",
        "plt.errorbar(w2, xcs2, yerr=dxcs2,fmt=\".--\",color=\"red\")\n",
        "plt.errorbar(xcs21, u21,  yerr=dxcs21,fmt=\".--\",color=\"k\")\n",
        "plt.show()"
      ],
      "execution_count": null,
      "outputs": [
        {
          "output_type": "display_data",
          "data": {
            "image/png": "[encoded data removed]",
            "text/plain": [
              "<Figure size 432x288 with 2 Axes>"
            ]
          },
          "metadata": {
            "tags": [],
            "needs_background": "light"
          }
        }
      ]
    },
    {
      "cell_type": "code",
      "metadata": {
        "id": "DvfyS86AIOxb"
      },
      "source": [
        "training = 1"
      ],
      "execution_count": null,
      "outputs": []
    },
    {
      "cell_type": "code",
      "metadata": {
        "id": "jTKOv-q0IXdF"
      },
      "source": [
        "boundaries = {\n",
        "    \"0\" : [(w0,xcs0,dxcs0),(xcs01,u01,dxcs01)],\n",
        "    \"1\" : [(w1,xcs1,dxcs1),(xcs11,u11,dxcs11)],\n",
        "    \"2\" : [(w2,xcs2,dxcs2),(xcs21,u21,dxcs21)],\n",
        "}"
      ],
      "execution_count": null,
      "outputs": []
    },
    {
      "cell_type": "code",
      "metadata": {
        "id": "SA9M5hImIaaf"
      },
      "source": [
        "np.savez(\"influence/data_and_masks/boundaries\",boundaries=boundaries)"
      ],
      "execution_count": null,
      "outputs": []
    },
    {
      "cell_type": "code",
      "metadata": {
        "id": "TWFp_7YgIeUy"
      },
      "source": [
        "\n",
        "bounds = np.load(\"influence/data_and_masks/boundaries.npz\",allow_pickle=True)[\"boundaries\"].item() # .item is needed because numpy saves data in numpy arrays"
      ],
      "execution_count": null,
      "outputs": []
    },
    {
      "cell_type": "code",
      "metadata": {
        "id": "BcJ4288hIhNs",
        "colab": {
          "base_uri": "https://localhost:8080/",
          "height": 333
        },
        "outputId": "94b73d68-82c5-4c81-8e56-c848c73c351d"
      },
      "source": [
        "fig, ax = plt.subplots(figsize=(6,4.5))\n",
        "# plot result\n",
        "#im = ax.pcolormesh(X,Y,outs[training].T,cmap=\"jet\")\n",
        "#fig.colorbar(im,ax=ax)\n",
        "# theory curve\n",
        "# ax.contour(x0,y0,np.round(chern_number.T),levels=2)\n",
        "ax.set_xlim(uW.min(),uW.max())\n",
        "ax.set_ylim(uU.min(),uU.max())\n",
        "colors = [\"k\",\"red\",\"blue\",\"magenta\",\"green\"]\n",
        "labels = [f\"Training  {i+1}\" for i in range(5)]\n",
        "for i in range(3):\n",
        "    for j,(x,y,dy) in enumerate(bounds[f\"{i}\"]):\n",
        "        label = None\n",
        "        if j == 0:\n",
        "            label = labels[i]\n",
        "        ax.errorbar(x,y,yerr=dy,fmt=\".--\",color=colors[i],label=label)\n",
        "#for i in [3,4]:\n",
        "#    for y,x,dx in bounds[f\"{i}h\"]:\n",
        "#        ax.errorbar(x,y,xerr=dx,fmt=\".--\",color=colors[i])\n",
        "plt.legend(loc='lower left',bbox_to_anchor=(0.05, 0.07, 0.9, .102),\n",
        "             borderaxespad=0.)\n",
        "\n",
        "plt.scatter(x=0.,y=1.14,c='g',s=150,marker='>',ec='k')\n",
        "plt.scatter(x=2.81,y=0,c='cyan',s=150,marker='^',ec='k')\n",
        "plt.scatter(x=3.89,y=0,c='olive',s=150,marker='^',ec='k')\n",
        "plt.yticks([0,1.14,2])\n",
        "plt.xticks([0,2.81,3.89,6])\n",
        "ax = plt.gca()\n",
        "ax.set_yticklabels(['0','1.14','2'],fontsize=16)\n",
        "ax.set_xticklabels(['0','2.81','3.89','6'],fontsize=16)\n",
        "plt.ylabel(\"U/t\",fontsize=20)\n",
        "plt.xlabel(\"W/t\",fontsize=20)\n",
        "plt.grid()\n",
        "plt.tight_layout()\n",
        "plt.savefig(\"boundaries_solo.png\",dpi=300)"
      ],
      "execution_count": null,
      "outputs": [
        {
          "output_type": "display_data",
          "data": {
            "image/png": "[encoded data removed]",
            "text/plain": [
              "<Figure size 432x324 with 1 Axes>"
            ]
          },
          "metadata": {
            "tags": [],
            "needs_background": "light"
          }
        }
      ]
    },
    {
      "cell_type": "markdown",
      "metadata": {
        "id": "qqnWMC_FIjlS"
      },
      "source": [
        "# Plot main figure"
      ]
    },
    {
      "cell_type": "code",
      "metadata": {
        "id": "eixrmRtZInoo"
      },
      "source": [
        "pick_phases = [18,18,18] # where to do the single cut image"
      ],
      "execution_count": null,
      "outputs": []
    },
    {
      "cell_type": "code",
      "metadata": {
        "id": "5AcT636eIprq"
      },
      "source": [
        "# for consistency with co-authors\n",
        "face_colors = {\n",
        "    'orange': [0.8906, 0.4609, 0.4062],\n",
        "    'gray': [0.6523, 0.6484, 0.6484],\n",
        "    'blue': [0.5156, 0.5977, 0.8789]\n",
        "}\n",
        "edge_colors = {\n",
        "    'orange': [0.9961, 0, 0],\n",
        "    'gray': [0.4805, 0.4766, 0.4766],\n",
        "    'blue': [0, 0, 0.9961]\n",
        "}\n",
        "\n",
        "edge_colors_arr = [ec for ec in edge_colors.values()]\n",
        "face_colors_arr = [fc for fc in face_colors.values()]\n",
        "\n",
        "cycler = (plt.cycler(mec=edge_colors_arr)+\n",
        "          plt.cycler(mfc=face_colors_arr)+\n",
        "          plt.cycler(color=edge_colors_arr))\n",
        "\n",
        "plt.rcParams.update({\n",
        "    #'figure.figsize': (12, 8),\n",
        "    'font.size': 12,\n",
        "    #'lines.markeredgewidth': 2,\n",
        "    #'lines.markersize': 9,\n",
        "    #'lines.marker': 'x',\n",
        "    #'lines.linestyle': '-',\n",
        "    #'lines.linewidth': 3,\n",
        "    'axes.prop_cycle': cycler\n",
        "    })"
      ],
      "execution_count": null,
      "outputs": []
    },
    {
      "cell_type": "code",
      "metadata": {
        "id": "sxjb2J0pIudH"
      },
      "source": [
        "fitcolor = \"k\" #,edge_colors[\"gray\"]"
      ],
      "execution_count": null,
      "outputs": []
    },
    {
      "cell_type": "code",
      "metadata": {
        "id": "Mmps-AaZIxbA"
      },
      "source": [
        "# just cosmetics to make the frame indicating the training region better visible\n",
        "train_freqss[0], train_phasess[0], train_phasess[1] = np.array([[5.125 , 5.5]]), np.array([[-178 , 178]]), np.array([[-178 , 178]])"
      ],
      "execution_count": null,
      "outputs": []
    },
    {
      "cell_type": "code",
      "metadata": {
        "id": "QEQ2IjHEI0Pn"
      },
      "source": [
        "# scale to be percent\n",
        "for i in range(3):\n",
        "    outs[i] = 100*outs[i]\n",
        "    douts[i] = 100*douts[i]\n",
        "    res[i] = 100*res[i]"
      ],
      "execution_count": null,
      "outputs": []
    },
    {
      "cell_type": "code",
      "metadata": {
        "id": "L5YGv3vmI3Ri"
      },
      "source": [
        "fig, axs = plt.subplots(2, 3, gridspec_kw={'height_ratios': [3, 1.5]},figsize=(14,6),sharey=\"row\")\n",
        "fillalpha, fillcolor = 0.5, \"c\"\n",
        "cmap = \"jet\" # good diverging cmap: \"seismic\" https://matplotlib.org/3.1.0/tutorials/colors/colormaps.html\n",
        "vmin, vmax = np.min(outs[:3]), np.max(outs[:3])\n",
        "for i in range(3):\n",
        "    pick_phase = pick_phases[i]\n",
        "    phase90 = X[:,pick_phase][0]\n",
        "    ax = axs[0,i]\n",
        "    im = ax.pcolormesh(X,Y,outs[i].T,cmap=cmap, vmin=vmin, vmax=vmax,linewidth=0,rasterized=True)\n",
        "    im.set_edgecolor('face')\n",
        "    #fig.colorbar(im,ax=ax)\n",
        "    ax.contour(x0,y0,np.round(chern_number.T),levels=2)\n",
        "    dx,dy = 0,0\n",
        "    ax.set_xlim(uphase.min()-dx,uphase.max()+dx)\n",
        "    ax.set_ylim(ufreq.min(),ufreq.max())\n",
        "    ax.set_xticks([-180,-90,0,90,180])\n",
        "    ax.plot([phase90]*2,[ufreq.min(),ufreq.max()],\"--\")\n",
        "    for phases,freqs in zip(train_phasess[i],train_freqss[i]):\n",
        "        print(phases,freqs)\n",
        "        # I am sure this can be done more elegantly, but aint nobody got time for that:\n",
        "        rectcolor=\"c\"\n",
        "        ax.plot(phases,[freqs[0]]*2,\"-\",linewidth=4,color=\"white\")\n",
        "        ax.plot(phases,[freqs[1]]*2,\"-\",linewidth=4,color=\"white\")\n",
        "        ax.plot([phases[0]]*2,freqs,\"-\",linewidth=4,color=\"white\")\n",
        "        ax.plot([phases[1]]*2,freqs,\"-\",linewidth=4,color=\"white\")\n",
        "        ax.plot(phases,[freqs[0]]*2,\"-\",linewidth=1,color=rectcolor)\n",
        "        ax.plot(phases,[freqs[1]]*2,\"-\",linewidth=1,color=rectcolor)\n",
        "        ax.plot([phases[0]]*2,freqs,\"-\",linewidth=1,color=rectcolor)\n",
        "        ax.plot([phases[1]]*2,freqs,\"-\",linewidth=1,color=rectcolor)\n",
        "    ax = axs[1,i]\n",
        "    label = None\n",
        "    if i == 0:\n",
        "        label = \"data\"\n",
        "        label1 = \"training region\"\n",
        "    ax.errorbar(Y[:,pick_phase],outs[i].T[:,pick_phase],yerr=douts[i].T[:,pick_phase],fmt=\".--\",label=label)\n",
        "    ax.text(0.08, 0.75,f\"{phase90:.0f}°\", transform = ax.transAxes) #horizontalalignment='center', verticalalignment='center',\n",
        "    for phases,freqs in zip(train_phasess[i],train_freqss[i]):\n",
        "        ax.fill_between(*[freqs],outs[0].T[:,pick_phase].min(),outs[0].T[:,18].max(),alpha=fillalpha,color=fillcolor, label=label1)\n",
        "    ax.axvline(6.1, color=\"rebeccapurple\", linestyle=\"--\", label=\"theoretical transition\") # expected transition\n",
        "    ax.axvline(6.8, color=\"rebeccapurple\", linestyle=\"--\") # expected transition\n",
        "\n",
        "### Boundaries (comment out if not wanted)\n",
        "for i in range(3):\n",
        "    for j,(xxx,yyy,dyyy) in enumerate(bounds[f\"{i}\"]):\n",
        "        axs[0,i].plot(xxx,yyy,\"-\",color=\"white\",linewidth=3)\n",
        "        axs[0,i].plot(xxx,yyy,\"-\",color=fitcolor,linewidth=1.5) #yerr=dyyy\n",
        "\n",
        "# Fits\n",
        "### Training 1\n",
        "ax = axs[1,0]\n",
        "xx,yy,fxx, xc, dxc = get_xxyy(5,6.5,ph = -90,training = 0, p0 = [0.1, 0.1, 1,0.1])\n",
        "ax.plot(xx,fxx,\"--\",color=fitcolor, label=\"tanh fit\")\n",
        "ax.axvline(xc, color=fitcolor,label=\"predicted transition\")\n",
        "xx,yy,fxx, xc, dxc = get_xxyy(6.3,7.6,ph = -90,training = 0, p0 = [10, 0.1, 1,20])\n",
        "ax.plot(xx,fxx,\"--\",[xc]*2,[yy.min(),yy.max()],\"-\",color=fitcolor)\n",
        "ax.axvline(xc, color=fitcolor)\n",
        "\n",
        "### Training 2\n",
        "ax = axs[1,1]\n",
        "xx,yy,fxx, xc, dxc = get_xxyy(6.3,7.6,ph = -90,training = 1, p0 = [10, -0.1, -1,20])\n",
        "ax.plot(xx,fxx,\"--\",[xc]*2,[yy.min(),yy.max()],\"-\",color=fitcolor)\n",
        "ax.axvline(xc, color=fitcolor)\n",
        "\n",
        "### Training 3\n",
        "ax = axs[1,2]\n",
        "xx,yy,fxx, xc, dxc = get_xxyy(6.3,7.6,ph = -90,training = 2, p0 = [10, 0.1, 1,20])\n",
        "ax.plot(xx,fxx,\"--\",[xc]*2,[yy.min(),yy.max()],\"-\",color=fitcolor)\n",
        "ax.axvline(xc, color=fitcolor)\n",
        "xx,yy,fxx, xc, dxc = get_xxyy(5,6.5,ph = -90,training = 2, p0 = [10, -0.1, -1,20])\n",
        "ax.plot(xx,fxx,\"--\",[xc]*2,[yy.min(),yy.max()],\"-\",color=fitcolor)\n",
        "ax.axvline(xc, color=fitcolor)\n",
        "\n",
        "\n",
        "\n",
        "axs[1,0].set_ylabel(\"Loss (%)\",fontsize=16)\n",
        "for i in range(3):\n",
        "    axs[0,i].set_xlabel(\"Shaking Phase (°)\",fontsize=16)\n",
        "    axs[1,i].set_xlabel(\"Shaking Frequency (kHz)\",fontsize=16)\n",
        "    axs[0,i].set_title(f\"Training {i+1}\",fontsize=16)\n",
        "\n",
        "\n",
        "handles, labels = axs[1,0].get_legend_handles_labels()\n",
        "axs[1,0].legend(handles, labels,bbox_to_anchor=(0.3, 1.02, 2.5, .102), loc='lower left',\n",
        "           ncol=5, mode=\"expand\", borderaxespad=0.)\n",
        "\n",
        "plt.tight_layout()\n",
        "for i in range(3):\n",
        "    axs[1,i].grid()\n",
        "axs[0,0].text(-0.07, 1.025,\"a\",weight=\"bold\", transform = axs[0,0].transAxes,fontsize=16)\n",
        "axs[1,0].text(-0.07, 1.1,\"b\",weight=\"bold\", transform = axs[1,0].transAxes,fontsize=16)\n",
        "axs[0,0].set_ylabel(\"Shaking Frequency (kHz)\",fontsize=16)\n",
        "fig.subplots_adjust(right=0.9)\n",
        "cbar_ax = fig.add_axes([0.92, 0.5, 0.02, 0.4])\n",
        "fig.colorbar(im, cax=cbar_ax)\n",
        "cbar_ax.set_title(\"  Loss (%)\")\n",
        "\n",
        "plt.savefig(\"KK_master2.pdf\")"
      ],
      "execution_count": null,
      "outputs": []
    }
  ]
}